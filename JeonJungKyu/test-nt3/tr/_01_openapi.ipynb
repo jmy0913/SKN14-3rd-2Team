{
 "cells": [
  {
   "metadata": {},
   "cell_type": "markdown",
   "source": "# open 네이버 뉴스검색",
   "id": "d9940a635b4fcc5d"
  },
  {
   "metadata": {},
   "cell_type": "markdown",
   "source": [
    "##애플리케이션등록\n",
    "https://developers.naver.com/apps/#/myapps/AsCo4qVROkzXuUSHRfNq/overview"
   ],
   "id": "ea536bbbbab89fc7"
  },
  {
   "metadata": {},
   "cell_type": "markdown",
   "source": "b# md로 다운받기 -- 깃헙블로그용",
   "id": "a31b26199c970938"
  },
  {
   "metadata": {
    "ExecuteTime": {
     "end_time": "2025-07-16T02:16:35.863459Z",
     "start_time": "2025-07-16T02:16:31.648913Z"
    }
   },
   "cell_type": "code",
   "source": "!pip install nbconvert",
   "id": "7da0208bd30e8251",
   "outputs": [
    {
     "name": "stdout",
     "output_type": "stream",
     "text": [
      "Requirement already satisfied: nbconvert in c:\\users\\playdata2\\miniconda3\\lib\\site-packages (7.16.6)\n",
      "Requirement already satisfied: beautifulsoup4 in c:\\users\\playdata2\\miniconda3\\lib\\site-packages (from nbconvert) (4.13.4)\n",
      "Requirement already satisfied: bleach!=5.0.0 in c:\\users\\playdata2\\miniconda3\\lib\\site-packages (from bleach[css]!=5.0.0->nbconvert) (6.2.0)\n",
      "Requirement already satisfied: defusedxml in c:\\users\\playdata2\\miniconda3\\lib\\site-packages (from nbconvert) (0.7.1)\n",
      "Requirement already satisfied: jinja2>=3.0 in c:\\users\\playdata2\\miniconda3\\lib\\site-packages (from nbconvert) (3.1.6)\n",
      "Requirement already satisfied: jupyter-core>=4.7 in c:\\users\\playdata2\\miniconda3\\lib\\site-packages (from nbconvert) (5.7.2)\n",
      "Requirement already satisfied: jupyterlab-pygments in c:\\users\\playdata2\\miniconda3\\lib\\site-packages (from nbconvert) (0.3.0)\n",
      "Requirement already satisfied: markupsafe>=2.0 in c:\\users\\playdata2\\miniconda3\\lib\\site-packages (from nbconvert) (3.0.2)\n",
      "Requirement already satisfied: mistune<4,>=2.0.3 in c:\\users\\playdata2\\miniconda3\\lib\\site-packages (from nbconvert) (3.1.3)\n",
      "Requirement already satisfied: nbclient>=0.5.0 in c:\\users\\playdata2\\miniconda3\\lib\\site-packages (from nbconvert) (0.10.2)\n",
      "Requirement already satisfied: nbformat>=5.7 in c:\\users\\playdata2\\miniconda3\\lib\\site-packages (from nbconvert) (5.10.4)\n",
      "Requirement already satisfied: packaging in c:\\users\\playdata2\\miniconda3\\lib\\site-packages (from nbconvert) (24.2)\n",
      "Requirement already satisfied: pandocfilters>=1.4.1 in c:\\users\\playdata2\\miniconda3\\lib\\site-packages (from nbconvert) (1.5.1)\n",
      "Requirement already satisfied: pygments>=2.4.1 in c:\\users\\playdata2\\miniconda3\\lib\\site-packages (from nbconvert) (2.15.1)\n",
      "Requirement already satisfied: traitlets>=5.1 in c:\\users\\playdata2\\miniconda3\\lib\\site-packages (from nbconvert) (5.14.3)\n",
      "Requirement already satisfied: webencodings in c:\\users\\playdata2\\miniconda3\\lib\\site-packages (from bleach!=5.0.0->bleach[css]!=5.0.0->nbconvert) (0.5.1)\n",
      "Requirement already satisfied: tinycss2<1.5,>=1.1.0 in c:\\users\\playdata2\\miniconda3\\lib\\site-packages (from bleach[css]!=5.0.0->nbconvert) (1.4.0)\n",
      "Requirement already satisfied: platformdirs>=2.5 in c:\\users\\playdata2\\miniconda3\\lib\\site-packages (from jupyter-core>=4.7->nbconvert) (3.10.0)\n",
      "Requirement already satisfied: pywin32>=300 in c:\\users\\playdata2\\miniconda3\\lib\\site-packages (from jupyter-core>=4.7->nbconvert) (310)\n",
      "Requirement already satisfied: jupyter-client>=6.1.12 in c:\\users\\playdata2\\miniconda3\\lib\\site-packages (from nbclient>=0.5.0->nbconvert) (8.6.3)\n",
      "Requirement already satisfied: fastjsonschema>=2.15 in c:\\users\\playdata2\\miniconda3\\lib\\site-packages (from nbformat>=5.7->nbconvert) (2.21.1)\n",
      "Requirement already satisfied: jsonschema>=2.6 in c:\\users\\playdata2\\miniconda3\\lib\\site-packages (from nbformat>=5.7->nbconvert) (4.23.0)\n",
      "Requirement already satisfied: soupsieve>1.2 in c:\\users\\playdata2\\miniconda3\\lib\\site-packages (from beautifulsoup4->nbconvert) (2.7)\n",
      "Requirement already satisfied: typing-extensions>=4.0.0 in c:\\users\\playdata2\\miniconda3\\lib\\site-packages (from beautifulsoup4->nbconvert) (4.12.2)\n",
      "Requirement already satisfied: attrs>=22.2.0 in c:\\users\\playdata2\\miniconda3\\lib\\site-packages (from jsonschema>=2.6->nbformat>=5.7->nbconvert) (25.3.0)\n",
      "Requirement already satisfied: jsonschema-specifications>=2023.03.6 in c:\\users\\playdata2\\miniconda3\\lib\\site-packages (from jsonschema>=2.6->nbformat>=5.7->nbconvert) (2025.4.1)\n",
      "Requirement already satisfied: referencing>=0.28.4 in c:\\users\\playdata2\\miniconda3\\lib\\site-packages (from jsonschema>=2.6->nbformat>=5.7->nbconvert) (0.36.2)\n",
      "Requirement already satisfied: rpds-py>=0.7.1 in c:\\users\\playdata2\\miniconda3\\lib\\site-packages (from jsonschema>=2.6->nbformat>=5.7->nbconvert) (0.24.0)\n",
      "Requirement already satisfied: python-dateutil>=2.8.2 in c:\\users\\playdata2\\miniconda3\\lib\\site-packages (from jupyter-client>=6.1.12->nbclient>=0.5.0->nbconvert) (2.9.0.post0)\n",
      "Requirement already satisfied: pyzmq>=23.0 in c:\\users\\playdata2\\miniconda3\\lib\\site-packages (from jupyter-client>=6.1.12->nbclient>=0.5.0->nbconvert) (26.4.0)\n",
      "Requirement already satisfied: tornado>=6.2 in c:\\users\\playdata2\\miniconda3\\lib\\site-packages (from jupyter-client>=6.1.12->nbclient>=0.5.0->nbconvert) (6.4.2)\n",
      "Requirement already satisfied: six>=1.5 in c:\\users\\playdata2\\miniconda3\\lib\\site-packages (from python-dateutil>=2.8.2->jupyter-client>=6.1.12->nbclient>=0.5.0->nbconvert) (1.17.0)\n"
     ]
    }
   ],
   "execution_count": 1
  },
  {
   "metadata": {},
   "cell_type": "markdown",
   "source": [
    "## 환경변수 관리\n",
    "애플리케이션의 Client ID, Client Secret값은 절대 외부에 노출되어서는 안된다.\n",
    "dotenv를 통해 관리할 수 있다."
   ],
   "id": "3f5ff11a27d6bd61"
  },
  {
   "metadata": {
    "ExecuteTime": {
     "end_time": "2025-04-23T02:16:42.710074Z",
     "start_time": "2025-04-23T02:16:41.550551Z"
    }
   },
   "cell_type": "code",
   "source": [
    "from IPython.core.history import sqlite3_found\n",
    "!pip install python-dotenv"
   ],
   "id": "b4c7303310b29dbb",
   "outputs": [
    {
     "name": "stdout",
     "output_type": "stream",
     "text": [
      "Collecting python-dotenv\n",
      "  Downloading python_dotenv-1.1.0-py3-none-any.whl.metadata (24 kB)\n",
      "Downloading python_dotenv-1.1.0-py3-none-any.whl (20 kB)\n",
      "Installing collected packages: python-dotenv\n",
      "Successfully installed python-dotenv-1.1.0\n"
     ]
    }
   ],
   "execution_count": 1
  },
  {
   "metadata": {
    "ExecuteTime": {
     "end_time": "2025-07-16T02:16:35.906915Z",
     "start_time": "2025-07-16T02:16:35.882844Z"
    }
   },
   "cell_type": "code",
   "source": [
    "from dotenv import load_dotenv\n",
    "load_dotenv() # 경로상의 .env 파일을 찾고, 자동으로 환경변수 등록"
   ],
   "id": "258525b62fbc6097",
   "outputs": [
    {
     "data": {
      "text/plain": [
       "True"
      ]
     },
     "execution_count": 2,
     "metadata": {},
     "output_type": "execute_result"
    }
   ],
   "execution_count": 2
  },
  {
   "metadata": {
    "ExecuteTime": {
     "end_time": "2025-07-16T02:16:36.524682Z",
     "start_time": "2025-07-16T02:16:36.518648Z"
    }
   },
   "cell_type": "code",
   "source": [
    "import os\n",
    "NAVER_CLIENT_ID = os.getenv(\"NAVER_CLIENT_ID\")\n",
    "NAVER_CLIENT_SECRET = os.getenv(\"NAVER_CLIENT_SECRET\")\n",
    "## 실제로 찍으면안됨\n",
    "\n",
    "if not NAVER_CLIENT_ID or not NAVER_CLIENT_SECRET:\n",
    "    raise ValueError(\"NAVER_CLIENT_ID and NAVER_CLIENT_SECRET 이 설정되지 않았습니다\")"
   ],
   "id": "c71c42619756300a",
   "outputs": [],
   "execution_count": 3
  },
  {
   "metadata": {},
   "cell_type": "markdown",
   "source": [
    "## API요청\n",
    "웹요청(브라우저가 웹서버에게 보내는 요청) http요청을 처리하기위해\n",
    "requests 라이브러리가 필요"
   ],
   "id": "91793edf5c85042d"
  },
  {
   "metadata": {
    "ExecuteTime": {
     "end_time": "2025-07-16T02:16:42.700417Z",
     "start_time": "2025-07-16T02:16:39.926837Z"
    }
   },
   "cell_type": "code",
   "source": "!pip install requests",
   "id": "9e1a59f797595b8",
   "outputs": [
    {
     "name": "stdout",
     "output_type": "stream",
     "text": [
      "Requirement already satisfied: requests in c:\\users\\playdata2\\miniconda3\\lib\\site-packages (2.32.3)\n",
      "Requirement already satisfied: charset-normalizer<4,>=2 in c:\\users\\playdata2\\miniconda3\\lib\\site-packages (from requests) (3.3.2)\n",
      "Requirement already satisfied: idna<4,>=2.5 in c:\\users\\playdata2\\miniconda3\\lib\\site-packages (from requests) (3.7)\n",
      "Requirement already satisfied: urllib3<3,>=1.21.1 in c:\\users\\playdata2\\miniconda3\\lib\\site-packages (from requests) (2.3.0)\n",
      "Requirement already satisfied: certifi>=2017.4.17 in c:\\users\\playdata2\\miniconda3\\lib\\site-packages (from requests) (2025.4.26)\n"
     ]
    }
   ],
   "execution_count": 4
  },
  {
   "metadata": {
    "ExecuteTime": {
     "end_time": "2025-07-16T02:17:02.897327Z",
     "start_time": "2025-07-16T02:17:02.718088Z"
    }
   },
   "cell_type": "code",
   "source": [
    "# 네이버 검색 API 예제 - 블로그 검색\n",
    "\n",
    "import urllib.request\n",
    "# 인증 정보\n",
    "encText = urllib.parse.quote(\"삼성전자 사업\") ## url encodding 작업(영문외 문자, 특수문자를 %로 시작하는 문자로 대체)\n",
    "\n",
    "print('encText:', encText)\n",
    "url = \"https://openapi.naver.com/v1/search/news.json?query=\" + encText + \"&display=20\"# JSON 결과\n",
    "# url = \"https://openapi.naver.com/v1/search/news.xml?query=\" + encText # XML 결과\n",
    "\n",
    "#요청 url 등록\n",
    "request = urllib.request.Request(url)\n",
    "\n",
    "# 요청 header 등록(메타정보)\n",
    "request.add_header(\"X-Naver-Client-Id\",NAVER_CLIENT_ID)\n",
    "request.add_header(\"X-Naver-Client-Secret\",NAVER_CLIENT_SECRET)\n",
    "\n",
    "#실제요청\n",
    "response = urllib.request.urlopen(request)\n",
    "rescode = response.getcode()\n",
    "\n",
    "# 200이 정상응답, 그외는 실패\n",
    "if(rescode==200):\n",
    "    response_body = response.read()\n",
    "    print(response_body.decode('utf-8'))\n",
    "else:\n",
    "    print(\"Error Code:\" + rescode)"
   ],
   "id": "5b1be95259015c66",
   "outputs": [
    {
     "name": "stdout",
     "output_type": "stream",
     "text": [
      "encText: %EC%82%BC%EC%84%B1%EC%A0%84%EC%9E%90%20%EC%82%AC%EC%97%85\n",
      "{\n",
      "\t\"lastBuildDate\":\"Wed, 16 Jul 2025 11:17:04 +0900\",\n",
      "\t\"total\":1225763,\n",
      "\t\"start\":1,\n",
      "\t\"display\":20,\n",
      "\t\"items\":[\n",
      "\t\t{\n",
      "\t\t\t\"title\":\"[인사] 하나금융지주·하나은행\",\n",
      "\t\t\t\"originallink\":\"https:\\/\\/www.thepublic.kr\\/news\\/articleView.html?idxno=270151\",\n",
      "\t\t\t\"link\":\"https:\\/\\/www.thepublic.kr\\/news\\/articleView.html?idxno=270151\",\n",
      "\t\t\t\"description\":\"글로벌FI<b>사업<\\/b>부 김은숙 ▲ 법무지원부 이용은 ▲ 글로벌<b>사업<\\/b>부 주진오 ▲ 소호<b>사업<\\/b>부 한승헌 ◇ 지점장... 최형택 ▲ <b>삼성전자<\\/b>[005930] 하두진 ▲ 분당금융센터 하성옥 ▲ 서울숲 한미화 ▲ 남산동 한현정 ▲ 진주 허장영... \",\n",
      "\t\t\t\"pubDate\":\"Wed, 16 Jul 2025 11:12:00 +0900\"\n",
      "\t\t},\n",
      "\t\t{\n",
      "\t\t\t\"title\":\"<b>삼성전자<\\/b>, 7년 연속 '에너지 대상' 수상…LG<b>전자<\\/b>도 16관왕 기록\",\n",
      "\t\t\t\"originallink\":\"http:\\/\\/www.popcornnews.net\\/news\\/articleView.html?idxno=86884\",\n",
      "\t\t\t\"link\":\"http:\\/\\/www.popcornnews.net\\/news\\/articleView.html?idxno=86884\",\n",
      "\t\t\t\"description\":\"<b>삼성전자<\\/b> 수상 제품들은 에너지소비효율 1등급을 받아 정부의 '으뜸효율 가전제품 환급<b>사업<\\/b>' 대상에 포함된다. LG<b>전자<\\/b>는 '제28회 올해의 에너지 위너상'에서 대상 3개를 포함해 총 16개의 상을 수상하며 9년 연속 업계... \",\n",
      "\t\t\t\"pubDate\":\"Wed, 16 Jul 2025 11:12:00 +0900\"\n",
      "\t\t},\n",
      "\t\t{\n",
      "\t\t\t\"title\":\"[인사]하나금융지주·하나은행\",\n",
      "\t\t\t\"originallink\":\"http:\\/\\/www.industrynews.co.kr\\/news\\/articleView.html?idxno=67207\",\n",
      "\t\t\t\"link\":\"http:\\/\\/www.industrynews.co.kr\\/news\\/articleView.html?idxno=67207\",\n",
      "\t\t\t\"description\":\"부장 ▲글로벌FI<b>사업<\\/b>부 김은숙 ▲법무지원부 이용은 ▲글로벌<b>사업<\\/b>부 주진오 ▲소호<b>사업<\\/b>부 한승헌... 최형택 ▲<b>삼성전자<\\/b> 하두진 ▲분당금융센터 하성옥 ▲서울숲 한미화 ▲남산동 한현정 ▲진주 허장영 ▲황실 황성권... \",\n",
      "\t\t\t\"pubDate\":\"Wed, 16 Jul 2025 11:12:00 +0900\"\n",
      "\t\t},\n",
      "\t\t{\n",
      "\t\t\t\"title\":\"[인사] 하나금융지주·하나은행\",\n",
      "\t\t\t\"originallink\":\"http:\\/\\/www.ttlnews.com\\/news\\/articleView.html?idxno=3012755\",\n",
      "\t\t\t\"link\":\"http:\\/\\/www.ttlnews.com\\/news\\/articleView.html?idxno=3012755\",\n",
      "\t\t\t\"description\":\"부장 ▲글로벌FI<b>사업<\\/b>부 김은숙 ▲법무지원부 이용은 ▲글로벌<b>사업<\\/b>부 주진오 ▲소호<b>사업<\\/b>부 한승헌... 최형택 ▲<b>삼성전자<\\/b> 하두진 ▲분당금융센터 하성옥 ▲서울숲 한미화 ▲남산동 한현정 ▲진주 허장영 ▲황실 황성권... \",\n",
      "\t\t\t\"pubDate\":\"Wed, 16 Jul 2025 11:10:00 +0900\"\n",
      "\t\t},\n",
      "\t\t{\n",
      "\t\t\t\"title\":\"<b>삼성전자<\\/b>, 제28회 올해의 에너지 위너상서 7년 연속 '에너지 대상' 수상\",\n",
      "\t\t\t\"originallink\":\"https:\\/\\/www.autodaily.co.kr\\/news\\/articleView.html?idxno=533591\",\n",
      "\t\t\t\"link\":\"https:\\/\\/www.autodaily.co.kr\\/news\\/articleView.html?idxno=533591\",\n",
      "\t\t\t\"description\":\"이번에 수상한 <b>삼성전자<\\/b> 가전제품은 에너지소비효율 1등급을 갖춰, 산업통상자원부에서 시행하는 '으뜸효율 가전제품 환급<b>사업<\\/b>' 혜택을 받을 수 있다. □ '갤럭시 북5 Pro'도 에너지 위너상 수상 '에너지 위너상'을... \",\n",
      "\t\t\t\"pubDate\":\"Wed, 16 Jul 2025 11:08:00 +0900\"\n",
      "\t\t},\n",
      "\t\t{\n",
      "\t\t\t\"title\":\"<b>삼성<\\/b>·LG<b>전자<\\/b>, '올해의 에너지대상'…AI 냉장고·워시타워 등 수상(종합...\",\n",
      "\t\t\t\"originallink\":\"http:\\/\\/www.edaily.co.kr\\/news\\/newspath.asp?newsid=03263606642235176\",\n",
      "\t\t\t\"link\":\"https:\\/\\/n.news.naver.com\\/mnews\\/article\\/018\\/0006066893?sid=101\",\n",
      "\t\t\t\"description\":\"<b>삼성전자<\\/b>(005930)와 LG<b>전자<\\/b>(066570)가 에너지 절감이 뛰어난 고효율 제품에 주어지는 ‘제28회 올해의... 또 ‘탄소중립’ 부문에서는 전장 <b>사업<\\/b>에서 데이터 분석, 가상검증 등 첨단 기법을 적용해 탄소배출을 획기적으로... \",\n",
      "\t\t\t\"pubDate\":\"Wed, 16 Jul 2025 11:06:00 +0900\"\n",
      "\t\t},\n",
      "\t\t{\n",
      "\t\t\t\"title\":\"<b>삼성전자<\\/b>, 7년연속 '에너지대상' 수상\",\n",
      "\t\t\t\"originallink\":\"https:\\/\\/www.smarttoday.co.kr\\/news\\/articleView.html?idxno=85883\",\n",
      "\t\t\t\"link\":\"https:\\/\\/www.smarttoday.co.kr\\/news\\/articleView.html?idxno=85883\",\n",
      "\t\t\t\"description\":\"이번에 수상한 <b>삼성전자<\\/b> 가전제품은 에너지소비효율 1등급을 갖춰, 산업통상자원부에서 시행하는 '으뜸효율 가전제품 환급<b>사업<\\/b>' 혜택을 받을 수 있다. ◇ '갤럭시 북5 Pro'도 에너지 위너상 수상 '에너지 위너상'을... \",\n",
      "\t\t\t\"pubDate\":\"Wed, 16 Jul 2025 11:06:00 +0900\"\n",
      "\t\t},\n",
      "\t\t{\n",
      "\t\t\t\"title\":\"<b>삼성전자<\\/b>, 7년 연속 ‘에너지 대상’…AI 기술로 효율 혁신 선도\",\n",
      "\t\t\t\"originallink\":\"https:\\/\\/www.m-economynews.com\\/news\\/article.html?no=57225\",\n",
      "\t\t\t\"link\":\"https:\\/\\/www.m-economynews.com\\/news\\/article.html?no=57225\",\n",
      "\t\t\t\"description\":\"이번에 수상한 <b>삼성전자<\\/b> 가전제품은 에너지소비효율 1등급을 달성해 ‘으뜸효율 가전제품 환급<b>사업<\\/b>’ 혜택을 받을 수 있다. 제28회 에너지 위너상 시상식은 한국프레스센터에서 열렸다. 제 28회 올해의 에너지... \",\n",
      "\t\t\t\"pubDate\":\"Wed, 16 Jul 2025 11:04:00 +0900\"\n",
      "\t\t},\n",
      "\t\t{\n",
      "\t\t\t\"title\":\"&quot;에너지 절약 인정받았다&quot;···<b>삼성<\\/b>·LG<b>전자<\\/b>, '올해의 에너지 위너상' ...\",\n",
      "\t\t\t\"originallink\":\"https:\\/\\/www.goodkyung.com\\/news\\/articleView.html?idxno=267666\",\n",
      "\t\t\t\"link\":\"https:\\/\\/www.goodkyung.com\\/news\\/articleView.html?idxno=267666\",\n",
      "\t\t\t\"description\":\"<b>삼성전자<\\/b>는 올해 '비스포크 인공지능(AI) 하이브리드 키친핏 맥스' 냉장고로 에너지 대상을 수상하며, 7년... 전장 <b>사업<\\/b>에서 데이터 분석, 가상검증 등 첨단 기법을 적용해 탄소배출을 획기적으로 줄인 활동이 탄소중립... \",\n",
      "\t\t\t\"pubDate\":\"Wed, 16 Jul 2025 11:04:00 +0900\"\n",
      "\t\t},\n",
      "\t\t{\n",
      "\t\t\t\"title\":\"<b>삼성<\\/b>·LG, 가전부터 전장까지…고효율 에너지 기술 '쌍두마차'\",\n",
      "\t\t\t\"originallink\":\"https:\\/\\/www.asiatoday.co.kr\\/view.php?key=20250716010009011\",\n",
      "\t\t\t\"link\":\"https:\\/\\/www.asiatoday.co.kr\\/view.php?key=20250716010009011\",\n",
      "\t\t\t\"description\":\"이번에 수상한 <b>삼성전자<\\/b> 제품들은 모두 에너지소비효율 1등급으로 '으뜸효율 가전제품 환급<b>사업<\\/b>' 대상이기도 하다.LG<b>전자<\\/b> 역시 에너지 대상 3개를 포함해 총 16개 상을 받으며 9년 연속 업계 최다 수상 기록을 이어갔다.... \",\n",
      "\t\t\t\"pubDate\":\"Wed, 16 Jul 2025 11:02:00 +0900\"\n",
      "\t\t},\n",
      "\t\t{\n",
      "\t\t\t\"title\":\"<b>삼성전자<\\/b>, 7년 연속 에너지 대상 수상\",\n",
      "\t\t\t\"originallink\":\"https:\\/\\/www.koit.co.kr\\/news\\/articleView.html?idxno=200704\",\n",
      "\t\t\t\"link\":\"https:\\/\\/www.koit.co.kr\\/news\\/articleView.html?idxno=200704\",\n",
      "\t\t\t\"description\":\"이번에 수상한 <b>삼성전자<\\/b> 가전제품은 에너지소비효율 1등급을 갖춰, 산업통상자원부에서 시행하는 '으뜸효율 가전제품 환급<b>사업<\\/b>' 혜택을 받을 수 있다. 이밖에, 갤럭시 북5 프로 또한 에너지 위너상을 수상했다. 갤럭시... \",\n",
      "\t\t\t\"pubDate\":\"Wed, 16 Jul 2025 11:02:00 +0900\"\n",
      "\t\t},\n",
      "\t\t{\n",
      "\t\t\t\"title\":\"<b>삼성전자<\\/b>, 7년 연속 ‘에너지 대상’ 수상…고효율 인증\",\n",
      "\t\t\t\"originallink\":\"http:\\/\\/theviewers.co.kr\\/View.aspx?No=3713461\",\n",
      "\t\t\t\"link\":\"http:\\/\\/theviewers.co.kr\\/View.aspx?No=3713461\",\n",
      "\t\t\t\"description\":\"이번에 수상한 <b>삼성전자<\\/b> 가전제품은 에너지소비효율 1등급을 갖춰, 산업통상자원부에서 시행하는 ‘으뜸효율 가전제품 환급<b>사업<\\/b>’ 혜택을 받을 수 있다. 또 ‘에너지 위너상’을 수상한 ‘갤럭시 북5 프로’는 인텔... \",\n",
      "\t\t\t\"pubDate\":\"Wed, 16 Jul 2025 11:02:00 +0900\"\n",
      "\t\t},\n",
      "\t\t{\n",
      "\t\t\t\"title\":\"<b>삼성전자<\\/b>, 7년 연속 '에너지 대상' 수상\",\n",
      "\t\t\t\"originallink\":\"http:\\/\\/www.newsdream.kr\\/news\\/articleView.html?idxno=89738\",\n",
      "\t\t\t\"link\":\"http:\\/\\/www.newsdream.kr\\/news\\/articleView.html?idxno=89738\",\n",
      "\t\t\t\"description\":\"이번에 수상한 <b>삼성전자<\\/b> 가전제품은 에너지소비효율 1등급을 갖춰, 산업통상자원부에서 시행하는 '으뜸효율 가전제품 환급<b>사업<\\/b>' 혜택을 받을 수 있다. 제 28회 올해의 에너지 위너상 시상식은 이날 한국프레스센터에서... \",\n",
      "\t\t\t\"pubDate\":\"Wed, 16 Jul 2025 11:02:00 +0900\"\n",
      "\t\t},\n",
      "\t\t{\n",
      "\t\t\t\"title\":\"<b>삼성<\\/b>‧LG ‘올해의 에너지 위너상’ 대기록 향연 外 KT [기업IN]\",\n",
      "\t\t\t\"originallink\":\"https:\\/\\/www.kukinews.com\\/article\\/view\\/kuk202507160063\",\n",
      "\t\t\t\"link\":\"https:\\/\\/www.kukinews.com\\/article\\/view\\/kuk202507160063\",\n",
      "\t\t\t\"description\":\"이번에 수상한 <b>삼성전자<\\/b> 가전제품은 에너지소비효율 1등급을 갖춰, 산업통상자원부에서 시행하는 ‘으뜸효율 가전제품 환급<b>사업<\\/b>’ 혜택을 받는다. ‘갤럭시 북5 프로’도 에너지 위너상을 수상했다. 갤럭시 북5... \",\n",
      "\t\t\t\"pubDate\":\"Wed, 16 Jul 2025 11:02:00 +0900\"\n",
      "\t\t},\n",
      "\t\t{\n",
      "\t\t\t\"title\":\"<b>삼성전자<\\/b>, 7년 연속 '에너지 대상' 수상\",\n",
      "\t\t\t\"originallink\":\"https:\\/\\/www.ajunews.com\\/view\\/20250716084356793\",\n",
      "\t\t\t\"link\":\"https:\\/\\/www.ajunews.com\\/view\\/20250716084356793\",\n",
      "\t\t\t\"description\":\"코어 Ultra 프로세서 시리즈 2(코드명 루나레이크)를 탑재했다. 한편 이번에 수상한 <b>삼성전자<\\/b> 가전제품은 에너지소비효율 1등급을 갖춰, 산업통상자원부에서 시행하는 '으뜸효율 가전제품 환급<b>사업<\\/b>' 혜택을 받을 수 있다.\",\n",
      "\t\t\t\"pubDate\":\"Wed, 16 Jul 2025 11:02:00 +0900\"\n",
      "\t\t},\n",
      "\t\t{\n",
      "\t\t\t\"title\":\"<b>삼성전자<\\/b>, 7년 연속 ‘에너지 대상’ 수상\",\n",
      "\t\t\t\"originallink\":\"https:\\/\\/www.viva100.com\\/article\\/20250716500364\",\n",
      "\t\t\t\"link\":\"https:\\/\\/www.viva100.com\\/article\\/20250716500364\",\n",
      "\t\t\t\"description\":\"이번에 수상한 <b>삼성전자<\\/b> 가전제품은 에너지소비효율 1등급을 갖춰, 산업통상자원부에서 시행하는 ‘으뜸효율 가전제품 환급<b>사업<\\/b>’ 혜택을 받을 수 있다. ‘에너지 위너상’을 수상한 ‘갤럭시 북5 프로’는 인텔 코어... \",\n",
      "\t\t\t\"pubDate\":\"Wed, 16 Jul 2025 11:02:00 +0900\"\n",
      "\t\t},\n",
      "\t\t{\n",
      "\t\t\t\"title\":\"[N2 <b>전자<\\/b> 정보통] <b>삼성<\\/b>-LG, ‘올해의 에너지위너상’서 나란히 수상 대기...\",\n",
      "\t\t\t\"originallink\":\"https:\\/\\/www.news2day.co.kr\\/article\\/20250716500048\",\n",
      "\t\t\t\"link\":\"https:\\/\\/www.news2day.co.kr\\/article\\/20250716500048\",\n",
      "\t\t\t\"description\":\"<b>삼성전자<\\/b>, '비스포크 AI 하이브리드 키친핏 맥스' 에너지 대상 수상 LG<b>전자<\\/b>, 가전제품부터 전장<b>사업<\\/b> 탄소중립 활동까지 최고상 영예 <b>삼성전자<\\/b>가 16일 소비자시민모임이 주최하고 산업통상자원부와 환경부... \",\n",
      "\t\t\t\"pubDate\":\"Wed, 16 Jul 2025 11:02:00 +0900\"\n",
      "\t\t},\n",
      "\t\t{\n",
      "\t\t\t\"title\":\"[이재용 法 리스크 해소] 대법원 최종 판단 D-1…9년 족쇄 풀리나\",\n",
      "\t\t\t\"originallink\":\"https:\\/\\/www.ebn.co.kr\\/news\\/articleView.html?idxno=1670688\",\n",
      "\t\t\t\"link\":\"https:\\/\\/www.ebn.co.kr\\/news\\/articleView.html?idxno=1670688\",\n",
      "\t\t\t\"description\":\"이재용 <b>삼성전자<\\/b> 회장의 9년 넘게 이어진 사법리스크가 대법원의 최종 판단을 하루 앞둔 가운데, 마침표를... 미국 마시모의 오디오 <b>사업<\\/b>부, 독일의 공조기기 업체 플랙트그룹, 디지털 헬스케어 기업 젤스 등을 잇따라... \",\n",
      "\t\t\t\"pubDate\":\"Wed, 16 Jul 2025 11:02:00 +0900\"\n",
      "\t\t},\n",
      "\t\t{\n",
      "\t\t\t\"title\":\"<b>삼성전자<\\/b> '비스포크 AI 하이브리드 키친핏 맥스' 냉장고, '에너지위너상...\",\n",
      "\t\t\t\"originallink\":\"https:\\/\\/www.businesspost.co.kr\\/BP?command=article_view&num=403625\",\n",
      "\t\t\t\"link\":\"https:\\/\\/www.businesspost.co.kr\\/BP?command=article_view&num=403625\",\n",
      "\t\t\t\"description\":\"이번에 수상한 <b>삼성전자<\\/b> 가전제품은 에너지소비효율 1등급을 갖춰, 산업통상자원부에서 시행하는 '으뜸효율 가전제품 환급<b>사업<\\/b>' 혜택을 받을 수 있다. '에너지 위너상'을 수상한 '갤럭시 북5 프로'는 인텔 코어 Ultra... \",\n",
      "\t\t\t\"pubDate\":\"Wed, 16 Jul 2025 11:02:00 +0900\"\n",
      "\t\t},\n",
      "\t\t{\n",
      "\t\t\t\"title\":\"<b>삼성전자<\\/b>, 7년 연속 ‘에너지 대상’ 휩쓸어..AI 기술력 입증\",\n",
      "\t\t\t\"originallink\":\"http:\\/\\/kpenews.com\\/View.aspx?No=3713474\",\n",
      "\t\t\t\"link\":\"http:\\/\\/kpenews.com\\/View.aspx?No=3713474\",\n",
      "\t\t\t\"description\":\"최대 25시간까지 배터리 사용이 가능하다. 수상한 <b>삼성전자<\\/b> 가전제품은 에너지소비효율 1등급을 갖춰 산업통상자원부의 '으뜸효율 가전제품 환급<b>사업<\\/b>' 혜택을 받을 수 있다.\",\n",
      "\t\t\t\"pubDate\":\"Wed, 16 Jul 2025 11:02:00 +0900\"\n",
      "\t\t}\n",
      "\t]\n",
      "}\n"
     ]
    }
   ],
   "execution_count": 5
  },
  {
   "metadata": {
    "ExecuteTime": {
     "end_time": "2025-04-25T07:51:06.360820Z",
     "start_time": "2025-04-25T07:51:06.182729Z"
    }
   },
   "cell_type": "code",
   "source": [
    "# requests 모듈\n",
    "import requests\n",
    "from pprint import pprint\n",
    "\n",
    "url = \"https://openapi.naver.com/v1/search/news.json\"\n",
    "\n",
    "headers = {\n",
    "    \"X-Naver-Client-Id\" : NAVER_CLIENT_ID,\n",
    "    \"X-Naver-Client-Secret\": NAVER_CLIENT_SECRET\n",
    "\n",
    "}\n",
    "\n",
    "#사용자입력값 (query string)\n",
    "\n",
    "params = {\n",
    "    'query':'인공지능',\n",
    "    'display':10, #10 ~ 100\n",
    "    'start':1,\n",
    "    'sort':'sim' # sim ㅣ date\n",
    "}\n",
    "\n",
    "#요청\n",
    "response = requests.get(url, headers=headers, params=params)\n",
    "\n"
   ],
   "id": "4d7ce65b20dd0123",
   "outputs": [],
   "execution_count": 14
  },
  {
   "metadata": {
    "ExecuteTime": {
     "end_time": "2025-04-25T07:51:20.515794Z",
     "start_time": "2025-04-25T07:51:20.367430Z"
    }
   },
   "cell_type": "code",
   "source": [
    "# requests 모듈\n",
    "import requests\n",
    "from pprint import pprint\n",
    "\n",
    "url = 'https://openapi.naver.com/v1/search/news.json'\n",
    "\n",
    "headers = {\n",
    "    \"X-Naver-Client-Id\": NAVER_CLIENT_ID,\n",
    "    \"X-Naver-Client-Secret\": NAVER_CLIENT_SECRET\n",
    "}\n",
    "\n",
    "# 사용자입력값 (query string)\n",
    "params = {\n",
    "    'query': '인공지능',\n",
    "    'display': 10, # 10 ~ 100\n",
    "    'start': 1,\n",
    "    'sort': 'sim', # sim | date\n",
    "}\n",
    "\n",
    "# 요청\n",
    "response = requests.get(url, headers=headers, params=params)\n",
    "\n",
    "# 결과출력\n",
    "if response.status_code == 200:\n",
    "    print(response.text) # json문자열 확인\n",
    "    # data = response.json() # json형식의 데이터를 dict 변환\n",
    "    # pprint(data)\n",
    "else:\n",
    "    print(\"Error Code:\" + response.status_code)"
   ],
   "id": "5901925747fd4498",
   "outputs": [
    {
     "name": "stdout",
     "output_type": "stream",
     "text": [
      "{\n",
      "\t\"lastBuildDate\":\"Fri, 25 Apr 2025 16:51:20 +0900\",\n",
      "\t\"total\":2895154,\n",
      "\t\"start\":1,\n",
      "\t\"display\":10,\n",
      "\t\"items\":[\n",
      "\t\t{\n",
      "\t\t\t\"title\":\"세종시, <b>인공지능<\\/b> 챗봇 활용 24시간 민원 상담 서비스\",\n",
      "\t\t\t\"originallink\":\"https:\\/\\/www.news1.kr\\/local\\/sejong-chungbuk\\/5764530\",\n",
      "\t\t\t\"link\":\"https:\\/\\/n.news.naver.com\\/mnews\\/article\\/421\\/0008214034?sid=102\",\n",
      "\t\t\t\"description\":\"세종시는 오는 28일부터 <b>인공지능<\\/b>(AI) 챗봇을 활용한 24시간 민원 상담 서비스를 시작한다고 25일 밝혔다. 대상은 시 민원콜센터 문의가 가장 많은 보건증, 여권, 주·정차 과태료, 지역 대표 축제, 당직병원·약국 등 5개... \",\n",
      "\t\t\t\"pubDate\":\"Fri, 25 Apr 2025 08:33:00 +0900\"\n",
      "\t\t},\n",
      "\t\t{\n",
      "\t\t\t\"title\":\"무릎뼈 탈구예측 AI모델 개발…&quot;고위험군 조기진단 기대&quot;\",\n",
      "\t\t\t\"originallink\":\"https:\\/\\/www.newsis.com\\/view\\/NISX20250423_0003150837\",\n",
      "\t\t\t\"link\":\"https:\\/\\/n.news.naver.com\\/mnews\\/article\\/003\\/0013201633?sid=102\",\n",
      "\t\t\t\"description\":\"국내 연구진이 <b>인공지능<\\/b>(AI)을 활용해 ‘슬개골(무릎뼈) 탈구’의 위험을 정확히 예측할 수 있는 <b>인공지능<\\/b> 모델을 개발하는 데 성공했다. ‘슬개골 탈구’는 무릎 앞 한가운데에 있는 종지 모양의 뼈인 슬개골의... \",\n",
      "\t\t\t\"pubDate\":\"Wed, 23 Apr 2025 15:38:00 +0900\"\n",
      "\t\t},\n",
      "\t\t{\n",
      "\t\t\t\"title\":\"어도비, AI 콘텐츠 제작 통합 툴 공개…'파이어플라이' 신제품 3종 출시\",\n",
      "\t\t\t\"originallink\":\"https:\\/\\/www.hankyung.com\\/article\\/202504255686i\",\n",
      "\t\t\t\"link\":\"https:\\/\\/n.news.naver.com\\/mnews\\/article\\/015\\/0005124087?sid=105\",\n",
      "\t\t\t\"description\":\"어도비가 이미지·영상 생성이 가능한 <b>인공지능<\\/b>(AI) 콘텐츠 제작 통합 툴을 선보이며 생성형 AI 경쟁력 강화에 나선다. 어도비 측은 25일 새로운 ‘파이어플라이’ 모델 3종을 공개했다. 이번에 발표된 모델은... \",\n",
      "\t\t\t\"pubDate\":\"Fri, 25 Apr 2025 13:41:00 +0900\"\n",
      "\t\t},\n",
      "\t\t{\n",
      "\t\t\t\"title\":\"<b>인공지능<\\/b>, 방송·광고 혁신 견인\",\n",
      "\t\t\t\"originallink\":\"https:\\/\\/www.mediapen.com\\/news\\/view\\/1010389\",\n",
      "\t\t\t\"link\":\"https:\\/\\/www.mediapen.com\\/news\\/view\\/1010389\",\n",
      "\t\t\t\"description\":\"이번 세미나는 지난 3월 출범한 포럼의 일환으로, 국내외 방송영상산업 내 <b>인공지능<\\/b>(AI) 활용 전략과 광고산업 변화 등을 집중 분석하는 자리다. 세미나에서는 ‘<b>인공지능<\\/b> 기술 발전이 방송영상·광고산업에 미치는... \",\n",
      "\t\t\t\"pubDate\":\"Fri, 25 Apr 2025 09:30:00 +0900\"\n",
      "\t\t},\n",
      "\t\t{\n",
      "\t\t\t\"title\":\"[K스토리] 인간지능(HI)과 <b>인공지능<\\/b>(AI)이 결합한 미디어아트를 극장에...\",\n",
      "\t\t\t\"originallink\":\"https:\\/\\/www.yna.co.kr\\/view\\/MYH20250425009500371?input=1197m\",\n",
      "\t\t\t\"link\":\"https:\\/\\/n.news.naver.com\\/mnews\\/article\\/001\\/0015352238?sid=161\",\n",
      "\t\t\t\"description\":\"인간지능(HI)과 <b>인공지능<\\/b>(AI)이 결합한 미디어아트를 극장에서 만나다 인간의 지능(Human Intelligence, HI)과 <b>인공지능<\\/b>(Artificial Intelligence, AI)이 미디어아트라는 형식으로 새로운 예술 표현이 가능할까. 이 주제는... \",\n",
      "\t\t\t\"pubDate\":\"Fri, 25 Apr 2025 15:01:00 +0900\"\n",
      "\t\t},\n",
      "\t\t{\n",
      "\t\t\t\"title\":\"세종시, 28일부터 <b>인공지능<\\/b> 보이스봇 도입…24시간 민원상담\",\n",
      "\t\t\t\"originallink\":\"https:\\/\\/cc.newdaily.co.kr\\/site\\/data\\/html\\/2025\\/04\\/25\\/2025042500021.html\",\n",
      "\t\t\t\"link\":\"https:\\/\\/cc.newdaily.co.kr\\/site\\/data\\/html\\/2025\\/04\\/25\\/2025042500021.html\",\n",
      "\t\t\t\"description\":\"뉴데일리 이길표 기자 = 세종시는 <b>인공지능<\\/b>(AI) 보이스봇을 활용한 민원상담서비스를 오는 28일부터 도입한다고 25일 밝혔다. 시는 단순·반복 민원이 많은 △보건증 △여권 △주·정차 과태료 △대표 축제(복숭아... \",\n",
      "\t\t\t\"pubDate\":\"Fri, 25 Apr 2025 07:06:00 +0900\"\n",
      "\t\t},\n",
      "\t\t{\n",
      "\t\t\t\"title\":\"GPU 넘어 NPU까지...<b>인공지능<\\/b> 대응 사활\",\n",
      "\t\t\t\"originallink\":\"https:\\/\\/www.ytn.co.kr\\/_ln\\/0105_202504250318406181\",\n",
      "\t\t\t\"link\":\"https:\\/\\/n.news.naver.com\\/mnews\\/article\\/052\\/0002184936?sid=105\",\n",
      "\t\t\t\"description\":\"<b>인공지능<\\/b>이 우리 삶 곳곳에 활용되면서 전 세계는 <b>인공지능<\\/b> 각축전을 벌이고 있습니다. 추경 편성을 계기로 정부는 <b>인공지능<\\/b> 학습에 핵심인 고성능 GPU 만 장을 확보하고 차세대 GPU로 불리는 NPU 개발 지원도... \",\n",
      "\t\t\t\"pubDate\":\"Fri, 25 Apr 2025 03:18:00 +0900\"\n",
      "\t\t},\n",
      "\t\t{\n",
      "\t\t\t\"title\":\"국민건강보험공단-한국관광공사, <b>인공지능<\\/b> 기반 감사협력을 위한 업무협...\",\n",
      "\t\t\t\"originallink\":\"https:\\/\\/biz.heraldcorp.com\\/article\\/10474231?ref=naver\",\n",
      "\t\t\t\"link\":\"https:\\/\\/n.news.naver.com\\/mnews\\/article\\/016\\/0002462950?sid=102\",\n",
      "\t\t\t\"description\":\"이번 협약은 4차 산업혁명 시대, 공공부문 전반에 걸친 디지털 대전환 흐름에 발맞춰 <b>인공지능<\\/b>, 빅데이터 등 첨단 정보통신기술의 감사업무 접목, 환경·사회·투명(ESG) 및 윤리경영 지원에 대한 전문성을 상호 교류하기... \",\n",
      "\t\t\t\"pubDate\":\"Fri, 25 Apr 2025 16:29:00 +0900\"\n",
      "\t\t},\n",
      "\t\t{\n",
      "\t\t\t\"title\":\"<b>인공지능<\\/b>이 방송영상산업에 미치는 영향은\",\n",
      "\t\t\t\"originallink\":\"https:\\/\\/www.naeil.com\\/news\\/read\\/546160?ref=naver\",\n",
      "\t\t\t\"link\":\"https:\\/\\/www.naeil.com\\/news\\/read\\/546160?ref=naver\",\n",
      "\t\t\t\"description\":\"이번 세미나에서는 ‘<b>인공지능<\\/b>(AI) 기술 발전이 방송영상 광고산업에 미치는 영향’을 대주제로 방송영상 및 광고 산업 분야 전문가와 함께 발표와 토론을 이어간다. 조영신 전 에스케이(SK)브로드밴드... \",\n",
      "\t\t\t\"pubDate\":\"Fri, 25 Apr 2025 13:08:00 +0900\"\n",
      "\t\t},\n",
      "\t\t{\n",
      "\t\t\t\"title\":\"미소정보기술, '국제<b>인공지능<\\/b>대전' 참가\",\n",
      "\t\t\t\"originallink\":\"https:\\/\\/www.newsfreezone.co.kr\\/news\\/articleView.html?idxno=622856\",\n",
      "\t\t\t\"link\":\"https:\\/\\/www.newsfreezone.co.kr\\/news\\/articleView.html?idxno=622856\",\n",
      "\t\t\t\"description\":\"멀티모달 데이터 플랫폼 전문기업 미소정보기술이 다음달 14일부터 16일까지 열리는 '국제<b>인공지능<\\/b>대전'에서 사이냅소프트 부스 파트너존에 참가해 양사의 기술협력 기반 솔루션과 생성형AI 혁신사례를 선보인다고... \",\n",
      "\t\t\t\"pubDate\":\"Fri, 25 Apr 2025 09:22:00 +0900\"\n",
      "\t\t}\n",
      "\t]\n",
      "}\n"
     ]
    }
   ],
   "execution_count": 15
  },
  {
   "metadata": {},
   "cell_type": "markdown",
   "source": [
    "## 테이블 설계\n",
    "```sql\n",
    "use menudb;\n",
    "create table naver_news (\n",
    "    id int primary key auto_increment,\n",
    "    title varchar(512),\n",
    "    originallink varchar(512),\n",
    "    link varchar(512),\n",
    "    description text,\n",
    "    pub_date varchar(512),\n",
    "    created_at datetime default (current_timestamp)\n",
    ");\n",
    "```\n",
    "\n"
   ],
   "id": "1aa0f2f7a045e32a"
  },
  {
   "metadata": {
    "ExecuteTime": {
     "end_time": "2025-04-23T07:46:34.037360Z",
     "start_time": "2025-04-23T07:46:34.030994Z"
    }
   },
   "cell_type": "code",
   "source": [
    "from datetime import datetime\n",
    "\n",
    "\"\"\"x`x`\n",
    "naver_news = NaverNews()\n",
    "print(naver_news.title) # @property getter 메소드\n",
    "naver_news.title = \"새 제목\" # @title.setter 메소드\n",
    "\"\"\"\n",
    "\n",
    "class NaverNews:\n",
    "    def __init__(self, id: int, title: str, originallink: str, link: str, description: str, pubDate: str, created_at: datetime=None):\n",
    "        self.__id = id\n",
    "        self.__title = title\n",
    "        self.__originallink = originallink\n",
    "        self.__link = link\n",
    "        self.__description = description\n",
    "        self.__pubDate = pubDate\n",
    "        self.__created_at = created_at\n",
    "\n",
    "    @property\n",
    "    def id(self):\n",
    "        return self.__id\n",
    "\n",
    "    @property\n",
    "    def title(self):\n",
    "        return self.__title\n",
    "\n",
    "    # __title속성에 대한 setter 메소드\n",
    "    # @title.setter\n",
    "    # def title(self, value):\n",
    "    #     self.__title = value\n",
    "\n",
    "    @property\n",
    "    def originallink(self):\n",
    "        return self.__originallink\n",
    "\n",
    "    @property\n",
    "    def link(self):\n",
    "        return self.__link\n",
    "\n",
    "    @property\n",
    "    def description(self):\n",
    "        return self.__description\n",
    "\n",
    "    @property\n",
    "    def pubDate(self):\n",
    "        return self.__pubDate\n",
    "\n",
    "    @property\n",
    "    def created_at(self):\n",
    "        return self.__created_at\n",
    "\n",
    "    def __repr__(self):\n",
    "        return f'NaverNews({self.__id}, {self.__title}, {self.__originallink}, {self.__link}, {self.__description}, {self.__pubDate}, {self.__created_at})'\n"
   ],
   "id": "83af2eb02b0a976f",
   "outputs": [],
   "execution_count": 115
  },
  {
   "metadata": {},
   "cell_type": "markdown",
   "source": "## 수집데이터를 db에 저장하기",
   "id": "46ffe92cc797fc0f"
  },
  {
   "metadata": {
    "ExecuteTime": {
     "end_time": "2025-04-23T07:55:07.408237Z",
     "start_time": "2025-04-23T07:55:07.352650Z"
    }
   },
   "cell_type": "code",
   "source": [
    "# requests 모듈\n",
    "import requests\n",
    "from pprint import pprint\n",
    "\n",
    "url = 'https://openapi.naver.com/v1/search/news.json'\n",
    "\n",
    "headers = {\n",
    "    \"X-Naver-Client-Id\": NAVER_CLIENT_ID,\n",
    "    \"X-Naver-Client-Secret\": NAVER_CLIENT_SECRET\n",
    "}\n",
    "\n",
    "# 사용자입력값 (query string)\n",
    "params = {\n",
    "    'query': '인공지능',\n",
    "    'display': 10, # 10 ~ 100\n",
    "    'start': 1,\n",
    "    'sort': 'sim', # sim | date\n",
    "}\n",
    "\n",
    "# 요청\n",
    "response = requests.get(url, headers=headers, params=params)\n",
    "\n",
    "naver_news_list: list[NaverNews] = []\n",
    "\n",
    "# 결과출력\n",
    "if response.status_code == 200:\n",
    "    # print(response.text) # json문자열 확인\n",
    "    data = response.json() # json형식의 데이터를 dict 변환\n",
    "    items = data['items']\n",
    "    for item in items:\n",
    "        naver_news_list.append(NaverNews(None, **item))\n",
    "    print(naver_news_list)\n",
    "else:\n",
    "    print(\"Error Code:\" + response.status_code)"
   ],
   "id": "32567241ae47770c",
   "outputs": [
    {
     "name": "stdout",
     "output_type": "stream",
     "text": [
      "[NaverNews(None, 산업부, 유통-AI 얼라이언스 출범…AI 생태계 활성화, https://www.newsis.com/view/NISX20250423_0003149814, https://n.news.naver.com/mnews/article/003/0013200519?sid=101, 유통산업 <b>인공지능</b>(AI) 확산을 위한 생태계 조성이 본격화된다. 산업통상자원부는 23일 서울 중구 대한상공회의소에서 '유통-AI 얼라이언스' 발족식을 개최했다고 밝혔다. 이번 얼라이언스 출범은 지난해 12월 발표한... , Wed, 23 Apr 2025 11:00:00 +0900, None), NaverNews(None, “AI 융합인재 양성 속도” 단국대, <b>인공지능</b>학과 신설, https://www.news1.kr/local/gyeonggi/5762704, https://n.news.naver.com/mnews/article/421/0008210727?sid=102, 단국대학교는 AI시대를 이끌어갈 융합인재 양성을 위해 학부에 <b>인공지능</b>학과를 신설했다고 23일 밝혔다. <b>인공지능</b>학과는 교육부의 2026학년도 첨단분야 정원증원 등을 통해 설치됐다. 올해에는 수시와 정시모집을... , Wed, 23 Apr 2025 16:47:00 +0900, None), NaverNews(None, 단국대, <b>인공지능</b>학과 신설…AI 융합인재 양성 속도, https://www.nocutnews.co.kr/news/6329072?utm_source=naver&utm_medium=article&utm_campaign=20250423014402, https://n.news.naver.com/mnews/article/079/0004016802?sid=102, 단국대학교(총장 안순철)는 AI시대를 이끌어갈 융합인재 양성을 위해 학부에 <b>인공지능</b>학과를 신설했다고 23일 밝혔다. 단국대에 따르면 <b>인공지능</b>학과는 교육부의 2026학년도 첨단분야 정원증원 등을 통해 설치됐으며... , Wed, 23 Apr 2025 13:45:00 +0900, None), NaverNews(None, 국세청, <b>인공지능</b>(AI) 국제표준 인증 획득, https://www.yna.co.kr/view/AKR20250422109400002?input=1195m, https://n.news.naver.com/mnews/article/001/0015345234?sid=101, 향후 AI 탈세적발 시스템 등 확대 국세청은 이달 초 <b>인공지능</b>(AI) 국제표준(ISO/IEC 42001) 인증을 획득했다고 22일 밝혔다. 이는 국제표준화기구(ISO)와 국제전기기술위원회(IEC)가 만든 <b>인공지능</b> 국제표준으로, 공공기관... , Tue, 22 Apr 2025 16:30:00 +0900, None), NaverNews(None, &quot;AI 융합인재 키운다&quot; 단국대, 2026학년도 <b>인공지능</b>학과 신설, http://news.mt.co.kr/mtview.php?no=2025042311535260157, https://n.news.naver.com/mnews/article/008/0005184708?sid=102, 단국대학교가 <b>인공지능</b> 융합인재를 양성하기 위해 학부 과정인 <b>인공지능</b>학과를 신설한다고 23일 밝혔다. <b>인공지능</b>학과는 교육부의 '2026학년도 첨단분야 정원 증원 계획'에 따라 개설된다. 올해 수시와 정시모집을... , Wed, 23 Apr 2025 13:04:00 +0900, None), NaverNews(None, LG유플러스, 에릭슨과 AI 기반 네트워크 장애 예측 기술 시연, https://www.etoday.co.kr/news/view/2464502, https://www.etoday.co.kr/news/view/2464502, 이투데이=이은주 기자 | LG유플러스는 통신 장비 제조업체 에릭슨과 <b>인공지능</b>(AI)을 활용한 네트워크 장애 예측 기술을 시연했다고 23일 밝혔다. 이번 시연은 국제표준기구 3GPP의 표준 기술 장비인 ‘네트워크 데이터... , Wed, 23 Apr 2025 09:24:00 +0900, None), NaverNews(None, 단국대, <b>인공지능</b>학과 신설…AI 융합인재 양성 속도, https://www.kyeonggi.com/article/20250423580301, https://n.news.naver.com/mnews/article/666/0000070789?sid=102, 단국대가 AI 시대를 이끌어갈 융합인재 양성을 위해 학부에 <b>인공지능</b>학과를 신설했다고 23일 밝혔다. <b>인공지능</b>학과는 교육부의 2026학년도 첨단분야 정원증원 등을 통해 설치되었으며 올해 수시와 정시모집에서 총... , Wed, 23 Apr 2025 16:18:00 +0900, None), NaverNews(None, 단국대, 학부 <b>인공지능</b>학과 신설…2026년 AI 핵심인재 양성 본격화, https://www.etnews.com/20250423000376, https://n.news.naver.com/mnews/article/030/0003306347?sid=105, 단국대학교(총장 안순철)는 <b>인공지능</b>(AI) 융합인재 양성을 위한 학부 <b>인공지능</b>학과를 신설하고, 2026학년도부터 본격적인 교육과정을 운영한다고 23일 밝혔다. 이 학과는 교육부의 첨단분야 정원 증원 계획에 따라... , Wed, 23 Apr 2025 16:01:00 +0900, None), NaverNews(None, 대구보건대 디지털·<b>인공지능</b>전환 교수법 특강 성료, https://www.kmib.co.kr/article/view.asp?arcid=0028001995&code=61122020&cp=nv, https://n.news.naver.com/mnews/article/005/0001771776?sid=102, 글로컬대학 대구보건대학교 교수학습지원센터는 최근 ‘디지털·<b>인공지능</b>전환(DX·AX) 교수역량강화를 위한 제1회 교수법 특강’을 개최했다고 23일 밝혔다. 전날 열린 특강은 글로컬대학30 프로젝트의 일환으로 디지털... , Wed, 23 Apr 2025 09:39:00 +0900, None), NaverNews(None, 단국대, <b>인공지능</b>학과 신설 … &quot;AI 융합인재 양성 가속&quot;, https://biz.newdaily.co.kr/site/data/html/2025/04/23/2025042300229.html, https://biz.newdaily.co.kr/site/data/html/2025/04/23/2025042300229.html, 뉴데일리 임정환 기자 = 단국대학교가 <b>인공지능</b>(AI) 시대를 이끌어갈 융합인재 양성을 위해 <b>인공지능</b>학과를 신설했다고 23일 밝혔다. <b>인공지능</b>학과는 교육부의 2026학년도 첨단분야 정원 증원을 통해 설치됐다. 올해... , Wed, 23 Apr 2025 13:52:00 +0900, None)]\n"
     ]
    }
   ],
   "execution_count": 118
  },
  {
   "metadata": {},
   "cell_type": "code",
   "source": [
    "import mysql.connector\n",
    "\n",
    "config = {\n",
    "    \"host\": 'localhost',\n",
    "    \"port\": 3306, # 기본포트 3306인 경우 생략가능\n",
    "    \"user\": 'skn14team5',\n",
    "    \"password\": 'skn14team5',\n",
    "    \"database\": 'newsdb'\n",
    "}"
   ],
   "id": "c826e2bc8b1bbb98",
   "outputs": [],
   "execution_count": null
  },
  {
   "metadata": {
    "ExecuteTime": {
     "end_time": "2025-04-25T08:45:21.643338Z",
     "start_time": "2025-04-25T08:45:21.631821Z"
    }
   },
   "cell_type": "code",
   "outputs": [
    {
     "name": "stdout",
     "output_type": "stream",
     "text": [
      "DB 오류: 1044 (42000): Access denied for user 'skn14team5'@'%' to database 'newsdb'\n"
     ]
    }
   ],
   "execution_count": 17,
   "source": [
    "\n",
    "try:\n",
    "    with mysql.connector.connect(**config) as conn:\n",
    "        with conn.cursor() as cursor:\n",
    "            # naver_news 객체를 한번에 한건씩 insert처리\n",
    "            for naver_news in naver_news_list:\n",
    "\n",
    "\n",
    "             cursor.execute('''\n",
    "                insert into\n",
    "                    naver_news (title,\n",
    "                    originallink,link,description,pubDate)\n",
    "                    values (%s, %s, %s, %s, %s)\n",
    "\n",
    "            ''', (naver_news.title,naver_news.originallink,naver_news.link,naver_news.description,naver_news.pubDate)) # sql, params\n",
    "            # 트랜잭션 처리를 위해 모든 dml 작업후 마지막에 처리\n",
    "            conn.commit() ##<- 위치 잘잡아야함 인서트 안으로 들어가버리면 계속 커밋되니까\n",
    "except mysql.connector.Error as e:\n",
    "    print('DB 오류:', e)"
   ],
   "id": "47ff9bc9d984fd7f"
  },
  {
   "metadata": {},
   "cell_type": "code",
   "outputs": [],
   "execution_count": null,
   "source": "",
   "id": "269be85a44f28eff"
  },
  {
   "metadata": {},
   "cell_type": "markdown",
   "source": "# DB에서 네이버뉴스 조회",
   "id": "4d85105ca0c7a9ea"
  },
  {
   "metadata": {},
   "cell_type": "code",
   "outputs": [],
   "execution_count": null,
   "source": [
    "try:\n",
    "    with mysql.connector.connect(**config) as conn:\n",
    "        with conn.cursor() as cursor:\n",
    "            cursor.execute('''\n",
    "                select\n",
    "                    *\n",
    "                from\n",
    "                    naver_news\n",
    "                order by\n",
    "                    id desc\n",
    "            ''') # sql, params\n",
    "            naver_news_list = [NaverNews(*row) for row in cursor.fetchall()]\n",
    "            print(naver_news_list)\n",
    "except mysql.connector.Error as e:\n",
    "    print('DB 오류:', e)"
   ],
   "id": "5a618e2f95e584cb"
  },
  {
   "metadata": {},
   "cell_type": "markdown",
   "source": [
    "# xml\n",
    "eXtensible Markup Language\n",
    "확장가능한 마크업언서 (tag를 통해 데이터의 계층구조 표현)\n",
    "\n",
    "- 규칙1: 첫줄에 xml선언문 작성할것 (첫줄 주석도 안됨!)\n",
    "- 규칙2: 단하나의 루트태그 하위에 데이를 표현할것"
   ],
   "id": "119ca8f77ddf283b"
  },
  {
   "metadata": {
    "ExecuteTime": {
     "end_time": "2025-04-25T00:33:09.081847Z",
     "start_time": "2025-04-25T00:33:08.914236Z"
    }
   },
   "cell_type": "code",
   "source": [
    "# requests 모듈\n",
    "import requests\n",
    "from pprint import pprint\n",
    "\n",
    "url = 'https://openapi.naver.com/v1/search/news.xml'\n",
    "\n",
    "headers = {\n",
    "    \"X-Naver-Client-Id\": NAVER_CLIENT_ID,\n",
    "    \"X-Naver-Client-Secret\": NAVER_CLIENT_SECRET\n",
    "}\n",
    "\n",
    "# 사용자입력값 (query string)\n",
    "params = {\n",
    "    'query': '인공지능',\n",
    "    'display': 10, # 10 ~ 100\n",
    "    'start': 1,\n",
    "    'sort': 'sim', # sim | date\n",
    "}\n",
    "\n",
    "# 요청\n",
    "response = requests.get(url, headers=headers, params=params)\n",
    "\n",
    "# 결과출력\n",
    "if response.status_code == 200:\n",
    "    pprint(response.text) # json문자열 확인\n",
    "\n",
    "    # xml파일로 저장\n",
    "    with open('response.xml', 'wb') as f:\n",
    "        f.write(response.content)\n",
    "else:\n",
    "    print(\"Error Code:\" + response.status_code)"
   ],
   "id": "832b3d7a4bcc279d",
   "outputs": [
    {
     "name": "stdout",
     "output_type": "stream",
     "text": [
      "('<?xml version=\"1.0\" encoding=\"UTF-8\"?><rss '\n",
      " 'version=\"2.0\"><channel><title>Naver Open API - news '\n",
      " '::&apos;인공지능&apos;</title><link>https://search.naver.com</link><description>Naver '\n",
      " 'Search Result</description><lastBuildDate>Fri, 25 Apr 2025 09:33:09 '\n",
      " '+0900</lastBuildDate><total>2893889</total><start>1</start><display>10</display><item><title>무릎뼈 '\n",
      " '탈구예측 AI모델 개발…&amp;quot;고위험군 조기진단 '\n",
      " '기대&amp;quot;</title><originallink>https://www.newsis.com/view/NISX20250423_0003150837</originallink><link>https://n.news.naver.com/mnews/article/003/0013201633?sid=102</link><description>국내 '\n",
      " '연구진이 &lt;b&gt;인공지능&lt;/b&gt;(AI)을 활용해 ‘슬개골(무릎뼈) 탈구’의 위험을 정확히 예측할 수 있는 '\n",
      " '&lt;b&gt;인공지능&lt;/b&gt; 모델을 개발하는 데 성공했다. ‘슬개골 탈구’는 무릎 앞 한가운데에 있는 종지 모양의 뼈인 '\n",
      " '슬개골의... </description><pubDate>Wed, 23 Apr 2025 15:38:00 '\n",
      " '+0900</pubDate></item><item><title>세종시, &lt;b&gt;인공지능&lt;/b&gt; 챗봇 활용 24시간 '\n",
      " '민원 상담 '\n",
      " '서비스</title><originallink>https://www.news1.kr/local/sejong-chungbuk/5764530</originallink><link>https://n.news.naver.com/mnews/article/421/0008214034?sid=102</link><description>세종시는 '\n",
      " '오는 28일부터 &lt;b&gt;인공지능&lt;/b&gt;(AI) 챗봇을 활용한 24시간 민원 상담 서비스를 시작한다고 25일 밝혔다. '\n",
      " '대상은 시 민원콜센터 문의가 가장 많은 보건증, 여권, 주·정차 과태료, 지역 대표 축제, 당직병원·약국 등 5개... '\n",
      " '</description><pubDate>Fri, 25 Apr 2025 08:33:00 '\n",
      " '+0900</pubDate></item><item><title>한국동서발전, ‘월드 아이티 쇼’서 에너지 '\n",
      " '&lt;b&gt;인공지능&lt;/b&gt; 기술력 '\n",
      " '선보인다</title><originallink>https://www.mk.co.kr/article/11300597</originallink><link>https://n.news.naver.com/mnews/article/009/0005482072?sid=101</link><description>한국동서발전은 '\n",
      " '오는 26일까지 3일간 서울 코엑스에서 열리는 ‘2025 월드 아이티(IT) 쇼’에 참가해 에너지 분야 '\n",
      " '&lt;b&gt;인공지능&lt;/b&gt;(AI) 기술력을 선보인다고 24일 밝혔다. 2025 월드 아이티(IT) 쇼는 '\n",
      " '과학기술정보통신부가... </description><pubDate>Thu, 24 Apr 2025 16:49:00 '\n",
      " '+0900</pubDate></item><item><title>갤럭시 &lt;b&gt;인공지능&lt;/b&gt; 기능 '\n",
      " '배워보세요</title><originallink>https://www.newspim.com/news/view/20250424000878</originallink><link>https://www.newspim.com/news/view/20250424000878</link><description>24일 '\n",
      " '서울 강남구 코엑스에서 2025 월드 IT 쇼가 열린 가운데 관람객들이 삼성전자 갤럭시 AI 수업에 참여하고 있다. '\n",
      " '2025.04.24</description><pubDate>Thu, 24 Apr 2025 14:36:00 '\n",
      " '+0900</pubDate></item><item><title>&lt;b&gt;인공지능&lt;/b&gt; 서버 '\n",
      " '전시</title><originallink>https://www.yna.co.kr/view/PYH20250424120900013?input=1196m</originallink><link>https://n.news.naver.com/mnews/article/001/0015349562?sid=105</link><description>24일 '\n",
      " '서울 강남구 코엑스에서 열린 &apos;월드 IT 쇼&apos;의 한 부스에서 &lt;b&gt;인공지능&lt;/b&gt; 서버를 전시하고 '\n",
      " '있다. 2025.4.24</description><pubDate>Thu, 24 Apr 2025 13:57:00 '\n",
      " '+0900</pubDate></item><item><title>“AI 거점 대학 도약”…단국대, 학부에 '\n",
      " '&lt;b&gt;인공지능&lt;/b&gt;학과 '\n",
      " '신설</title><originallink>http://www.segye.com/newsView/20250424500421?OutUrl=naver</originallink><link>https://n.news.naver.com/mnews/article/022/0004030305?sid=102</link><description>“이원화된 '\n",
      " 'AI 융합인재 키운다”…교육부 계획에 따라 올해 42명 모집 단국대학교가 융합인재 양성을 위해 학부에 '\n",
      " '&lt;b&gt;인공지능&lt;/b&gt;(AI)학과를 신설한다. 정부의 첨단분야 증원 정책에 따라 들어서는 '\n",
      " '&lt;b&gt;인공지능&lt;/b&gt;학과는... </description><pubDate>Thu, 24 Apr 2025 '\n",
      " '00:41:00 +0900</pubDate></item><item><title>산업부, 유통-AI 얼라이언스 출범…AI 생태계 '\n",
      " '활성화</title><originallink>https://www.newsis.com/view/NISX20250423_0003149814</originallink><link>https://n.news.naver.com/mnews/article/003/0013200519?sid=101</link><description>유통산업 '\n",
      " '&lt;b&gt;인공지능&lt;/b&gt;(AI) 확산을 위한 생태계 조성이 본격화된다. 산업통상자원부는 23일 서울 중구 '\n",
      " '대한상공회의소에서 &apos;유통-AI 얼라이언스&apos; 발족식을 개최했다고 밝혔다. 이번 얼라이언스 출범은 지난해 12월 '\n",
      " '발표한... </description><pubDate>Wed, 23 Apr 2025 11:00:00 '\n",
      " '+0900</pubDate></item><item><title>GPU 넘어 NPU까지...&lt;b&gt;인공지능&lt;/b&gt; 대응 '\n",
      " '사활</title><originallink>https://www.ytn.co.kr/_ln/0105_202504250318406181</originallink><link>https://n.news.naver.com/mnews/article/052/0002184936?sid=105</link><description>&lt;b&gt;인공지능&lt;/b&gt;이 '\n",
      " '우리 삶 곳곳에 활용되면서 전 세계는 &lt;b&gt;인공지능&lt;/b&gt; 각축전을 벌이고 있습니다. 추경 편성을 계기로 정부는 '\n",
      " '&lt;b&gt;인공지능&lt;/b&gt; 학습에 핵심인 고성능 GPU 만 장을 확보하고 차세대 GPU로 불리는 NPU 개발 지원도... '\n",
      " '</description><pubDate>Fri, 25 Apr 2025 03:18:00 '\n",
      " '+0900</pubDate></item><item><title>&lt;b&gt;인공지능&lt;/b&gt;, 방송·광고 혁신 '\n",
      " '견인</title><originallink>https://www.mediapen.com/news/view/1010389</originallink><link>https://www.mediapen.com/news/view/1010389</link><description>이번 '\n",
      " '세미나는 지난 3월 출범한 포럼의 일환으로, 국내외 방송영상산업 내 &lt;b&gt;인공지능&lt;/b&gt;(AI) 활용 전략과 '\n",
      " '광고산업 변화 등을 집중 분석하는 자리다. 세미나에서는 ‘&lt;b&gt;인공지능&lt;/b&gt; 기술 발전이 방송영상·광고산업에 '\n",
      " '미치는... </description><pubDate>Fri, 25 Apr 2025 09:30:00 '\n",
      " '+0900</pubDate></item><item><title>미소정보기술, '\n",
      " '&apos;국제&lt;b&gt;인공지능&lt;/b&gt;대전&apos; '\n",
      " '참가</title><originallink>https://www.newsfreezone.co.kr/news/articleView.html?idxno=622856</originallink><link>https://www.newsfreezone.co.kr/news/articleView.html?idxno=622856</link><description>멀티모달 '\n",
      " '데이터 플랫폼 전문기업 미소정보기술이 다음달 14일부터 16일까지 열리는 '\n",
      " '&apos;국제&lt;b&gt;인공지능&lt;/b&gt;대전&apos;에서 사이냅소프트 부스 파트너존에 참가해 양사의 기술협력 기반 '\n",
      " '솔루션과 생성형AI 혁신사례를 선보인다고... </description><pubDate>Fri, 25 Apr 2025 09:22:00 '\n",
      " '+0900</pubDate></item></channel></rss>')\n"
     ]
    }
   ],
   "execution_count": 8
  },
  {
   "metadata": {},
   "cell_type": "markdown",
   "source": "",
   "id": "aa7877cccb40639a"
  }
 ],
 "metadata": {
  "kernelspec": {
   "display_name": "Python 3",
   "language": "python",
   "name": "python3"
  },
  "language_info": {
   "codemirror_mode": {
    "name": "ipython",
    "version": 2
   },
   "file_extension": ".py",
   "mimetype": "text/x-python",
   "name": "python",
   "nbconvert_exporter": "python",
   "pygments_lexer": "ipython2",
   "version": "2.7.6"
  }
 },
 "nbformat": 4,
 "nbformat_minor": 5
}
