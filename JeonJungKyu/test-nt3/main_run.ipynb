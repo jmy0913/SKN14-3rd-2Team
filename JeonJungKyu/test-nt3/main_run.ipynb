{
 "cells": [
  {
   "metadata": {
    "ExecuteTime": {
     "end_time": "2025-07-16T07:50:46.350619Z",
     "start_time": "2025-07-16T07:50:07.574617Z"
    }
   },
   "cell_type": "code",
   "source": "from utils1.main import run_flexible_rag",
   "id": "2cf549dbca622768",
   "outputs": [
    {
     "name": "stderr",
     "output_type": "stream",
     "text": [
      "C:\\Users\\Playdata2\\miniconda3\\envs\\deep_learning_nlp_env\\Lib\\site-packages\\tqdm\\auto.py:21: TqdmWarning: IProgress not found. Please update jupyter and ipywidgets. See https://ipywidgets.readthedocs.io/en/stable/user_install.html\n",
      "  from .autonotebook import tqdm as notebook_tqdm\n"
     ]
    },
    {
     "name": "stdout",
     "output_type": "stream",
     "text": [
      "WARNING:tensorflow:From C:\\Users\\Playdata2\\miniconda3\\envs\\deep_learning_nlp_env\\Lib\\site-packages\\tf_keras\\src\\losses.py:2976: The name tf.losses.sparse_softmax_cross_entropy is deprecated. Please use tf.compat.v1.losses.sparse_softmax_cross_entropy instead.\n",
      "\n"
     ]
    },
    {
     "name": "stderr",
     "output_type": "stream",
     "text": [
      "C:\\Workspaces\\3rd-project\\JeonJungKyu\\test-nt2\\utils1\\retreiver_setting.py:71: LangChainDeprecationWarning: The class `OpenAIEmbeddings` was deprecated in LangChain 0.0.9 and will be removed in 1.0. An updated version of the class exists in the :class:`~langchain-openai package and should be used instead. To use it run `pip install -U :class:`~langchain-openai` and import as `from :class:`~langchain_openai import OpenAIEmbeddings``.\n",
      "  embeddings = OpenAIEmbeddings(model=EMBEDDING_MODEL)\n"
     ]
    }
   ],
   "execution_count": 1
  },
  {
   "metadata": {
    "ExecuteTime": {
     "end_time": "2025-07-16T07:51:06.949403Z",
     "start_time": "2025-07-16T07:51:05.007382Z"
    }
   },
   "cell_type": "code",
   "source": [
    "question = \"삼성전자 2023년 재무제표 알려줘\"\n",
    "response = run_flexible_rag(question)\n",
    "print(response)"
   ],
   "id": "e57884a4d26c7a24",
   "outputs": [
    {
     "name": "stdout",
     "output_type": "stream",
     "text": [
      "❗질문의 유형을 정확히 분류할 수 없습니다.\n",
      "(모델 응답: 작업유형: finance\n",
      "\n",
      "1. 정보 유형: 재무제표\n",
      "2. 분류 근거: 질문에서 삼성전자의 2023년 재무제표에 대한 정보를 요청하고 있으므로, 재무제표 내용만 필요한 질문으로 분류됩니다.)\n"
     ]
    }
   ],
   "execution_count": 3
  },
  {
   "metadata": {
    "collapsed": true,
    "ExecuteTime": {
     "end_time": "2025-07-16T07:51:29.064141Z",
     "start_time": "2025-07-16T07:51:08.922943Z"
    }
   },
   "cell_type": "code",
   "source": [
    "question = \"삼성전자 2023년 사업 상황이 어때?\"\n",
    "response = run_flexible_rag(question)\n",
    "print(response)"
   ],
   "id": "initial_id",
   "outputs": [
    {
     "name": "stdout",
     "output_type": "stream",
     "text": [
      "📥 hybrid 처리 시작\n",
      "## 🔍 분석 과정\n",
      "\n",
      "**핵심 질문 파악**\n",
      "질문: 삼성전자 2023년 사업 상황이 어때?\n",
      "- 분석 유형: 재무분석 및 사업현황 분석\n",
      "- 필요 정보: 2023년 재무제표, 사업보고서 내용, 회계기준 적용\n",
      "\n",
      "**관련 자료 매칭**\n",
      "- 회계기준: 제공된 회계기준서에서 보험계약부채 및 미래현금흐름에 대한 할인율 변동 관련 내용\n",
      "- 사업보고서: 삼성전자의 2023년 사업현황 및 주요 제품군\n",
      "- 재무제표: 2023년 삼성전자의 재무제표 수치\n",
      "\n",
      "**데이터 기반 분석**\n",
      "- 재무제표 핵심 수치:\n",
      "  * 2023년: 자산총계 455,905,980,000,000원\n",
      "  * 2023년: 자본총계 363,677,865,000,000원\n",
      "  * 2023년: 매출액 258,935,494,000,000원\n",
      "  * 2023년: 영업이익 6,566,976,000,000원\n",
      "  * 2023년: 당기순이익 15,487,100,000,000원\n",
      "  * 변화율: \n",
      "    - 자산총계: (455,905,980,000,000 - 448,424,507,000,000) / 448,424,507,000,000 = 1.32%\n",
      "    - 자본총계: (363,677,865,000,000 - 354,749,604,000,000) / 354,749,604,000,000 = 2.61%\n",
      "    - 매출액: (258,935,494,000,000 - 302,231,360,000,000) / 302,231,360,000,000 = -14.31%\n",
      "    - 영업이익: (6,566,976,000,000 - 43,376,630,000,000) / 43,376,630,000,000 = -84.83%\n",
      "    - 당기순이익: (15,487,100,000,000 - 55,654,077,000,000) / 55,654,077,000,000 = -72.24%\n",
      "\n",
      "- 회계기준 해석: \n",
      "  - 보험계약부채의 현재가치 추정치와 할인율 변동에 따른 영향이 있으며, 이는 미래현금흐름의 변동성을 반영한다. 2023년에는 할인율이 7.42%로 조정되었으며, 이는 보험계약부채의 장부금액에 영향을 미친다.\n",
      "\n",
      "- 사업 현황: \n",
      "  - 삼성전자는 반도체, 정보통신, 디지털미디어 등 다양한 사업을 영위하고 있으며, 2023년에는 반도체 공급 부족이 개선되지만 경기침체로 인해 판매 회복이 지연될 것으로 전망된다. 주요 고객인 현대자동차·기아의 판매 실적이 증가하고 있으며, 이는 삼성전자의 안정적인 성장을 지원할 것으로 보인다.\n",
      "\n",
      "## 📊 최종 분석 결과\n",
      "\n",
      "**핵심 발견사항**\n",
      "- 2023년 삼성전자의 자산총계는 455,905,980,000,000원으로 전년 대비 1.32% 증가하였으나, 매출액은 258,935,494,000,000원으로 14.31% 감소하였다.\n",
      "- 영업이익은 6,566,976,000,000원으로 84.83% 감소하였고, 당기순이익은 15,487,100,000,000원으로 72.24% 감소하였다.\n",
      "- 회계기준에 따라 보험계약부채의 현재가치 추정치가 할인율 변동에 따라 조정되었으며, 이는 재무제표에 반영되었다.\n",
      "\n",
      "**결론**\n",
      "삼성전자는 2023년 재무제표에서 자산은 증가했으나, 매출과 이익은 크게 감소하여 전반적인 재무 성과가 악화되었다. 경기침체와 반도체 공급 문제로 인해 판매 회복이 지연될 것으로 보이며, 이는 향후 사업 안정성에 부정적인 영향을 미칠 수 있다. 삼성전자는 주요 고객과의 관계를 강화하고, 혁신적인 기술 개발을 통해 지속 가능한 성장을 도모해야 할 필요성이 있다.\n"
     ]
    }
   ],
   "execution_count": 4
  },
  {
   "metadata": {
    "ExecuteTime": {
     "end_time": "2025-07-16T02:56:12.349138Z",
     "start_time": "2025-07-16T02:55:51.766572Z"
    }
   },
   "cell_type": "code",
   "source": [
    "question = \"삼성전자 2024년 사업이랑 재무상태 어때?\"\n",
    "response = run_flexible_rag(question)\n",
    "print(response)"
   ],
   "id": "8879f29bd486816a",
   "outputs": [
    {
     "name": "stdout",
     "output_type": "stream",
     "text": [
      "📥 hybrid 처리 시작\n",
      "## 🔍 분석 과정\n",
      "\n",
      "**핵심 질문 파악**\n",
      "질문: 삼성전자 2024년 사업이랑 재무상태 어때?\n",
      "- 분석 유형: [회계기준 해석/재무분석/사업현황 분석]\n",
      "- 필요 정보: [2024년 재무상태, 영업성과, 자본구조, 사업 부문별 성과]\n",
      "\n",
      "**관련 자료 매칭**\n",
      "- 회계기준: [기업회계기준서 제1001호, 제1115호]\n",
      "- 사업보고서: [삼성전자 2023년 연결 재무제표]\n",
      "- 재무제표: [2024년 재무제표]\n",
      "\n",
      "**데이터 기반 분석**\n",
      "### 재무제표 핵심 수치\n",
      "- **2024년**: 자산총계 514,531억원\n",
      "- **2023년**: 자산총계 455,906억원\n",
      "- **변화율**: (514,531 - 455,906) / 455,906 * 100 = 12.8%\n",
      "\n",
      "- **2024년**: 부채총계 112,339억원\n",
      "- **2023년**: 부채총계 92,228억원\n",
      "- **변화율**: (112,339 - 92,228) / 92,228 * 100 = 21.8%\n",
      "\n",
      "- **2024년**: 자본총계 402,192억원\n",
      "- **2023년**: 자본총계 363,678억원\n",
      "- **변화율**: (402,192 - 363,678) / 363,678 * 100 = 10.6%\n",
      "\n",
      "- **2024년**: 매출액 300,871억원\n",
      "- **2023년**: 매출액 258,935억원\n",
      "- **변화율**: (300,871 - 258,935) / 258,935 * 100 = 16.2%\n",
      "\n",
      "- **2024년**: 영업이익 32,726억원\n",
      "- **2023년**: 영업이익 6,567억원\n",
      "- **변화율**: (32,726 - 6,567) / 6,567 * 100 = 396.5%\n",
      "\n",
      "- **2024년**: 당기순이익 34,451억원\n",
      "- **2023년**: 당기순이익 15,487억원\n",
      "- **변화율**: (34,451 - 15,487) / 15,487 * 100 = 122.4%\n",
      "\n",
      "### 회계기준 해석\n",
      "- **기업회계기준서 제1001호**에 따라 자산과 부채의 분류가 적절히 이루어졌으며, 유동성과 비유동성 자산 및 부채의 구분이 명확하다.\n",
      "- **기업회계기준서 제1115호**에 따라 매출채권의 손실충당금 설정이 적절히 이루어졌으며, 신용위험에 대한 정보가 충분히 공시되었다.\n",
      "\n",
      "### 사업 현황\n",
      "- 삼성전자는 DX(Device eXperience), DS(Device Solutions), SDC(Samsung Display Company), Harman 등 다양한 사업 부문을 운영하고 있으며, 2024년에는 매출이 증가하고 영업이익이 크게 개선되었다.\n",
      "- DX 부문은 소비자 가전 및 모바일 기기를 포함하고 있으며, DS 부문은 반도체 제품을 중심으로 성장하고 있다.\n",
      "- Harman 부문은 커넥티드카 및 오디오 솔루션을 제공하며, 글로벌 시장에서의 경쟁력을 강화하고 있다.\n",
      "\n",
      "## 📊 최종 분석 결과\n",
      "\n",
      "**핵심 발견사항**\n",
      "- 삼성전자의 2024년 자산총계는 514,531억원으로 12.8% 증가하였으며, 부채총계는 112,339억원으로 21.8% 증가하였다. 자본총계는 402,192억원으로 10.6% 증가하였다.\n",
      "- 매출액은 300,871억원으로 16.2% 증가하였고, 영업이익은 32,726억원으로 396.5% 증가하였다. 당기순이익은 34,451억원으로 122.4% 증가하였다.\n",
      "- 회계기준에 따라 자산과 부채의 분류가 적절히 이루어졌으며, 신용위험에 대한 정보가 충분히 공시되었다.\n",
      "\n",
      "**결론**\n",
      "삼성전자는 2024년에도 지속적인 성장을 보여주고 있으며, 매출과 이익 모두 크게 증가하였다. 자산과 자본이 증가한 반면, 부채도 증가하였으나 이는 사업 확장과 관련된 것으로 보인다. 전반적으로 삼성전자는 안정적인 재무상태를 유지하고 있으며, 다양한 사업 부문에서의 성장이 긍정적인 영향을 미치고 있다.\n"
     ]
    }
   ],
   "execution_count": 5
  },
  {
   "metadata": {
    "ExecuteTime": {
     "end_time": "2025-07-15T17:35:56.056526Z",
     "start_time": "2025-07-15T17:35:47.932674Z"
    }
   },
   "cell_type": "code",
   "source": [
    "question = \"재고 자산 회계 처리 방법이 뭐야???\"\n",
    "response = run_flexible_rag(question)\n",
    "print(response)"
   ],
   "id": "38d610e61af73d49",
   "outputs": [
    {
     "name": "stdout",
     "output_type": "stream",
     "text": [
      "📥 accounting 처리 시작\n",
      "재고자산 회계 처리 방법은 다음과 같습니다:\n",
      "\n",
      "1. **원가 결정 방법**: 재고자산의 원가는 선입선출법(FIFO), 가중평균법, 후입선출법(LIFO) 중에서 선택하여 결정할 수 있습니다. 후입선출법은 삭제되었으며, 선입선출법과 가중평균법이 일반적으로 사용됩니다.\n",
      "\n",
      "2. **순실현가능가치**: 재고자산의 원가는 회수하기 어려운 경우에는 순실현가능가치로 감액해야 합니다. 이는 물리적 손상, 진부화, 판매가격 하락, 완성 또는 판매에 필요한 원가 상승 등의 경우에 적용됩니다.\n",
      "\n",
      "3. **저가법**: 재고자산을 취득원가 이하의 순실현가능가치로 감액하는 저가법은 항목별로 적용하되, 비슷한 목적이나 최종 용도를 가진 항목들을 통합하여 적용할 수도 있습니다.\n",
      "\n",
      "4. **소매재고법**: 이익률이 유사하고 품종 변화가 심한 다품종 상품을 취급하는 유통업에서 사용되며, 재고자산의 원가는 판매가격을 적절한 총이익률을 반영하여 환원하는 방법으로 결정됩니다.\n",
      "\n",
      "5. **개별법**: 통상적으로 상호 교환될 수 없는 재고자산 항목의 원가는 개별법을 사용하여 결정합니다. \n",
      "\n",
      "이러한 방법들은 재고자산의 장부에 표시되는 원가 금액을 적절하게 결정하고, 관련된 수익이 인식될 때까지 장부에 표시하는 데 도움을 줍니다.\n"
     ]
    }
   ],
   "execution_count": 4
  },
  {
   "metadata": {},
   "cell_type": "markdown",
   "source": "",
   "id": "8f0c9638a102df86"
  },
  {
   "metadata": {
    "ExecuteTime": {
     "end_time": "2025-07-16T02:44:46.951970Z",
     "start_time": "2025-07-16T02:44:32.908758Z"
    }
   },
   "cell_type": "code",
   "source": [
    "question = \"재고 자산 회계 처리 방법이 뭐야???\"\n",
    "response = run_flexible_rag(question)\n",
    "print(response)"
   ],
   "id": "2f44a552d57bd65b",
   "outputs": [
    {
     "name": "stdout",
     "output_type": "stream",
     "text": [
      "📥 accounting 처리 시작\n",
      "## 🔍 분석 과정\n",
      "\n",
      "**질문 분석**\n",
      "질문: 재고 자산 회계 처리 방법이 뭐야???\n",
      "- 핵심 회계 개념: 재고자산의 회계처리\n",
      "- 적용 범위: 주식회사 등의 외부감사에 관한 법률에 따라 한국채택국제회계기준을 의무적으로 적용하는 주식회사 및 기타 법령에서 적용을 요구하는 기업\n",
      "\n",
      "**관련 기준서 조항 확인**\n",
      "- 해당 조항: 제1002호 재고자산\n",
      "- 핵심 정의: 재고자산은 자산으로 인식되며, 이와 관련된 수익이 인식될 때까지 장부에 표시하는 원가 금액을 적절하게 결정해야 한다.\n",
      "- 적용 요건: 재고자산의 원가결정 및 순실현가능가치로 감액하는 후속적 비용인식에 대한 지침을 제공한다.\n",
      "\n",
      "**기준서 해석**\n",
      "- 명시된 내용: 재고자산의 원가는 선입선출법(FIFO), 가중평균법, 후입선출법(LIFO) 중 하나를 선택하여 결정할 수 있으며, 후입선출법은 삭제되었다. 또한, 재고자산의 원가는 물리적 손상, 진부화, 판매가격 하락, 완성 또는 판매에 필요한 원가 상승 등의 경우에 순실현가능가치로 감액해야 한다.\n",
      "- 적용 절차: 재고자산의 원가는 항목별로 또는 비슷한 목적이나 최종 용도를 가진 항목들을 통합하여 적용할 수 있다. 소매재고법은 유통업에서 사용될 수 있다.\n",
      "- 주의사항: 동일한 재고자산에 대해 지역별 위치나 과세방식이 다르다는 이유로 다른 단위원가 결정방법을 적용하는 것은 정당화될 수 없다.\n",
      "\n",
      "## 📋 최종 답변\n",
      "\n",
      "**기준서 기반 답변**\n",
      "재고자산의 회계처리는 자산으로 인식하고, 이와 관련된 수익이 인식될 때까지 장부에 표시하는 원가 금액을 적절하게 결정하는 것을 포함합니다. 재고자산의 원가는 선입선출법(FIFO), 가중평균법을 사용하여 결정할 수 있으며, 후입선출법(LIFO)은 사용이 금지됩니다. 또한, 재고자산은 물리적 손상, 진부화, 판매가격 하락 등의 경우에 순실현가능가치로 감액해야 합니다.\n",
      "\n",
      "**적용 가이드**\n",
      "- 적용 시점: 한국채택국제회계기준을 의무적으로 적용하는 주식회사 및 기타 법령에서 요구하는 기업에 적용된다.\n",
      "- 처리 방법: 재고자산의 원가는 선입선출법 또는 가중평균법을 사용하여 결정하며, 항목별로 또는 비슷한 목적의 항목들을 통합하여 적용할 수 있다.\n",
      "- 공시 요구사항: 재고자산의 원가 및 감액에 대한 정보는 재무제표에 공시해야 하며, 적용한 원가결정 방법에 대한 설명도 포함해야 한다.\n"
     ]
    }
   ],
   "execution_count": 3
  },
  {
   "metadata": {
    "ExecuteTime": {
     "end_time": "2025-07-16T02:46:32.167072Z",
     "start_time": "2025-07-16T02:46:17.948501Z"
    }
   },
   "cell_type": "code",
   "source": [
    "question = \"재고 자산 회계 처리 방법이 뭐야???\"\n",
    "response = run_flexible_rag(question)\n",
    "print(response)"
   ],
   "id": "ec474d799d851acc",
   "outputs": [
    {
     "name": "stdout",
     "output_type": "stream",
     "text": [
      "📥 accounting 처리 시작\n",
      "## 기준서 기반 답변\n",
      "\n",
      "재고자산 회계 처리 방법은 재고자산을 어떻게 기록하고 평가할지를 정하는 규칙입니다. 이 기준서의 목적은 재고자산의 원가를 적절하게 결정하고, 이 자산이 판매될 때까지 장부에 어떻게 표시할지를 안내하는 것입니다.\n",
      "\n",
      "### 핵심 정의\n",
      "- **재고자산**: 기업이 판매를 위해 보유하고 있는 자산으로, 원자재, 재공품, 완제품 등이 포함됩니다.\n",
      "- **원가**: 재고자산을 취득하기 위해 지출한 금액입니다.\n",
      "- **순실현가능가치**: 재고자산을 판매했을 때 받을 수 있는 금액에서 판매에 드는 비용을 뺀 금액입니다.\n",
      "\n",
      "### 처리 방법\n",
      "1. **원가 결정**: 재고자산의 원가는 여러 방법으로 결정할 수 있습니다. 일반적으로 사용되는 방법은 다음과 같습니다:\n",
      "   - **선입선출법(FIFO)**: 먼저 구입한 재고가 먼저 판매된다고 가정합니다.\n",
      "   - **가중평균법**: 모든 재고의 평균 원가를 계산하여 사용합니다.\n",
      "   - **개별법**: 특정 재고 항목에 대해 개별적으로 원가를 계산합니다.\n",
      "\n",
      "2. **순실현가능가치로 감액**: 재고자산의 가치가 하락할 경우, 원가보다 낮은 순실현가능가치로 재고자산을 감액해야 합니다. 이는 물리적 손상, 진부화, 판매가격 하락 등으로 인해 발생할 수 있습니다.\n",
      "\n",
      "3. **저가법 적용**: 재고자산의 장부금액이 순실현가능가치보다 높을 경우, 저가법을 적용하여 자산의 가치를 조정합니다.\n",
      "\n",
      "## 실무 적용\n",
      "\n",
      "### 언제 적용\n",
      "- 이 기준서는 주식회사와 같은 외부감사 의무가 있는 기업에 적용됩니다. 또한, 한국채택국제회계기준을 선택하거나 다른 법령에서 요구하는 기업에도 적용됩니다.\n",
      "\n",
      "### 어떻게 처리\n",
      "1. **재고자산을 구입할 때**: 구입한 재고자산의 원가를 기록합니다.\n",
      "2. **재고자산을 판매할 때**: 판매된 재고의 원가를 매출원가로 기록하고, 재고에서 차감합니다.\n",
      "3. **기말 재고 평가**: 기말에 남아 있는 재고자산의 원가를 평가하고, 필요시 순실현가능가치로 감액합니다.\n",
      "\n",
      "### 기록할 내용\n",
      "- 재고자산의 원가, 판매 시 매출원가, 기말 재고의 평가 결과 등을 재무제표에 공시해야 합니다. 이때, 사용한 원가 결정 방법과 감액 여부도 명시해야 합니다.\n",
      "\n",
      "## 주의할 점\n",
      "- 동일한 성격의 재고자산에는 같은 원가 결정 방법을 적용해야 하며, 서로 다른 성격의 재고자산에는 다른 방법을 사용할 수 있습니다. \n",
      "- 재고자산의 원가를 결정할 때는 일관성을 유지해야 하며, 지역이나 과세 방식에 따라 다른 방법을 적용하는 것은 정당화될 수 없습니다. \n",
      "\n",
      "이렇게 재고자산의 회계 처리는 원가 결정, 순실현가능가치 평가, 그리고 적절한 기록을 통해 이루어집니다.\n"
     ]
    }
   ],
   "execution_count": 2
  },
  {
   "metadata": {
    "ExecuteTime": {
     "end_time": "2025-07-16T02:59:32.273270Z",
     "start_time": "2025-07-16T02:59:14.386228Z"
    }
   },
   "cell_type": "code",
   "source": [
    "question = \"네이버 2024년 어떤거 같아?\"\n",
    "response = run_flexible_rag(question)\n",
    "print(response)"
   ],
   "id": "b1116aa57325db1e",
   "outputs": [
    {
     "name": "stdout",
     "output_type": "stream",
     "text": [
      "📥 hybrid 처리 시작\n",
      "## 🔍 분석 과정\n",
      "\n",
      "**핵심 질문 파악**\n",
      "질문: 네이버 2024년 어떤거 같아?\n",
      "- 분석 유형: 재무분석 및 사업현황 분석\n",
      "- 필요 정보: 네이버의 재무상태, 수익성, 사업 환경 및 경쟁력\n",
      "\n",
      "**관련 자료 매칭**\n",
      "- 회계기준: 제공된 회계 기준서에서 신용위험 및 손실 인식 관련 조항\n",
      "- 사업보고서: 네이버의 사업 현황 및 전략\n",
      "- 재무제표: 2024년 재무제표의 구체적 수치\n",
      "\n",
      "**데이터 기반 분석**\n",
      "### 재무제표 핵심 수치:\n",
      "- **2024년**: 자산총계 38,167,876,036,020원\n",
      "- **2023년**: 자산총계 35,737,826,964,395원\n",
      "- **변화율**: (38,167,876,036,020 - 35,737,826,964,395) / 35,737,826,964,395 * 100 = 6.8%\n",
      "\n",
      "- **2024년**: 자본총계 27,000,911,848,337원\n",
      "- **2023년**: 자본총계 24,237,998,815,553원\n",
      "- **변화율**: (27,000,911,848,337 - 24,237,998,815,553) / 24,237,998,815,553 * 100 = 11.5%\n",
      "\n",
      "- **2024년**: 영업이익 1,979,263,438,827원\n",
      "- **2023년**: 영업이익 1,488,820,269,608원\n",
      "- **변화율**: (1,979,263,438,827 - 1,488,820,269,608) / 1,488,820,269,608 * 100 = 32.9%\n",
      "\n",
      "### 회계기준 해석:\n",
      "- 신용위험 관련: 제공된 회계 기준서에 따르면, 신용위험이 유의적으로 증가한 경우 전체기간 기대신용손실을 인식해야 하며, 이는 대출금의 신용위험 평가에 적용된다. 네이버의 경우, 신용위험이 유의적으로 증가하지 않았으므로 12개월 기대신용손실로 측정할 수 있다.\n",
      "\n",
      "### 사업 현황:\n",
      "- 네이버는 2024년에도 온라인 광고 시장의 성장세를 반영하여 긍정적인 전망을 가지고 있으며, 특히 대규모 이벤트(파리 올림픽, 미국 대통령 선거 등)가 광고 시장에 긍정적인 영향을 미칠 것으로 예상된다.\n",
      "- 경쟁 환경에서 네이버는 플랫폼 서비스 기반의 산업에서 사용자 간의 상호작용과 네트워크 효과를 통해 지속적인 성장을 도모하고 있다.\n",
      "\n",
      "## 📊 최종 분석 결과\n",
      "\n",
      "**핵심 발견사항**\n",
      "- 네이버의 자산총계는 2024년 38,167,876,036,020원으로 전년 대비 6.8% 증가하였으며, 자본총계는 27,000,911,848,337원으로 11.5% 증가하였다.\n",
      "- 영업이익은 1,979,263,438,827원으로 32.9% 증가하여 수익성이 크게 개선되었다.\n",
      "- 신용위험 관련 회계기준에 따라, 신용위험이 유의적으로 증가하지 않았으므로 12개월 기대신용손실로 측정할 수 있다.\n",
      "\n",
      "**결론**\n",
      "네이버는 2024년에도 긍정적인 재무 성과를 보이고 있으며, 자산과 자본이 모두 증가하고 영업이익이 크게 개선되었다. 온라인 광고 시장의 성장과 대규모 이벤트의 긍정적인 영향으로 인해 향후 성장 가능성이 높다. 신용위험 관리 측면에서도 안정적인 상태를 유지하고 있어, 전반적으로 긍정적인 전망을 가지고 있다.\n"
     ]
    }
   ],
   "execution_count": 6
  },
  {
   "metadata": {
    "ExecuteTime": {
     "end_time": "2025-07-15T17:36:16.578679Z",
     "start_time": "2025-07-15T17:36:07.726299Z"
    }
   },
   "cell_type": "code",
   "source": [
    "question = \"네이버 2024년 사업보고서 핵심\"\n",
    "response = run_flexible_rag(question)\n",
    "print(response)"
   ],
   "id": "f592699c2393d879",
   "outputs": [
    {
     "name": "stdout",
     "output_type": "stream",
     "text": [
      "📥 business 처리 시작\n",
      "네이버의 2024년 사업보고서는 여러 중요한 사항을 포함하고 있습니다. \n",
      "\n",
      "1. **사업 분야**: 네이버는 반도체, 디스플레이, IT & 모바일, 가전 사업 등 다양한 분야에서 활동하고 있습니다. 특히, 메모리 반도체와 스마트폰 제조는 주요 매출원으로 자리잡고 있습니다.\n",
      "\n",
      "2. **매출 구성**: 해외 매출이 전체의 70%를 차지하며, 이는 글로벌 시장에서의 강력한 입지를 나타냅니다. 국내 매출은 30%로, 국내 시장에서도 일정한 비중을 유지하고 있습니다.\n",
      "\n",
      "3. **합병 및 인수**: 2024년에는 주요 합병 사항은 없지만, 소규모 기술 기업 인수를 통해 기술력을 강화하고 있습니다.\n",
      "\n",
      "4. **주요 투자**: 해외 생산법인 증설과 연구개발 센터 확장을 통해 지속적인 성장을 도모하고 있으며, 신사업 분야에 대한 투자도 활발히 진행되고 있습니다.\n",
      "\n",
      "5. **조직 개편**: 사업부 조직 개편과 자회사 통합을 통해 효율성을 높이고, 경영 구조를 개선하고 있습니다.\n",
      "\n",
      "6. **향후 계획**: 신사업 진출과 투자 및 확장 계획이 있으며, 이는 네이버의 미래 성장 가능성을 높이는 요소로 작용할 것입니다.\n",
      "\n",
      "7. **감사보고서**: 감사의견이 적정으로, 재무 상태에 대한 신뢰성을 확보하고 있습니다.\n",
      "\n",
      "이러한 요소들은 네이버가 지속 가능한 성장을 추구하고 있음을 보여줍니다. 정확한 재무 수치는 재무제표 API를 통해 확인해야 합니다.\n"
     ]
    }
   ],
   "execution_count": 6
  },
  {
   "metadata": {
    "ExecuteTime": {
     "end_time": "2025-07-16T02:49:23.505497Z",
     "start_time": "2025-07-16T02:49:15.514750Z"
    }
   },
   "cell_type": "code",
   "source": [
    "question = \"네이버 2024년 사업보고서 핵심\"\n",
    "response = run_flexible_rag(question)\n",
    "print(response)"
   ],
   "id": "3deafae2f7cabc95",
   "outputs": [
    {
     "name": "stdout",
     "output_type": "stream",
     "text": [
      "📥 business 처리 시작\n"
     ]
    },
    {
     "name": "stderr",
     "output_type": "stream",
     "text": [
      "C:\\Users\\playdata\\Documents\\SKN14-3rd-2Team\\JeongMinYoung\\utils1\\handle_node.py:22: LangChainDeprecationWarning: The method `BaseRetriever.get_relevant_documents` was deprecated in langchain-core 0.1.46 and will be removed in 1.0. Use :meth:`~invoke` instead.\n",
      "  docs = self_retriever.get_relevant_documents(question)\n"
     ]
    },
    {
     "name": "stdout",
     "output_type": "stream",
     "text": [
      "네이버의 2024년 사업보고서에서 핵심 사항은 다음과 같습니다.\n",
      "\n",
      "1. **감사보고서**: 감사의견은 적정으로, 삼일회계법인이 감사하였습니다. 이는 회사의 재무 상태가 건전하다는 것을 나타냅니다.\n",
      "\n",
      "2. **주주총회 의결사항**: 정기주주총회가 2024년 3월 15일에 개최되며, 주요 의결사항으로는 재무제표 승인과 이사 선임이 포함됩니다. 특별결의사항으로는 정관 변경이 있습니다.\n",
      "\n",
      "3. **기타 중요 공시**: 중요한 계약 체결, 주요 소송 진행 상황, 경영진 변동사항, 사업 구조 변화 등이 보고되었습니다. 이는 회사의 운영 및 전략적 방향에 중요한 영향을 미칠 수 있습니다.\n",
      "\n",
      "4. **향후 계획**: 네이버는 신사업 진출, 투자 및 확장, 조직 개편 계획을 가지고 있습니다. 이는 회사의 성장 가능성을 높이고, 시장에서의 경쟁력을 강화하기 위한 전략으로 해석됩니다.\n",
      "\n",
      "전반적으로 네이버는 안정적인 재무 상태를 유지하고 있으며, 향후 성장과 확장을 위한 다양한 계획을 추진하고 있습니다. 정확한 수치는 재무제표 API를 통해 확인해야 합니다.\n"
     ]
    }
   ],
   "execution_count": 3
  },
  {
   "metadata": {
    "ExecuteTime": {
     "end_time": "2025-07-16T02:51:20.121211Z",
     "start_time": "2025-07-16T02:51:10.752915Z"
    }
   },
   "cell_type": "code",
   "source": [
    "question = \"네이버 2024년 사업보고서 핵심\"\n",
    "response = run_flexible_rag(question)\n",
    "print(response)"
   ],
   "id": "c814cc4c5dc30fe2",
   "outputs": [
    {
     "name": "stdout",
     "output_type": "stream",
     "text": [
      "📥 business 처리 시작\n"
     ]
    },
    {
     "name": "stderr",
     "output_type": "stream",
     "text": [
      "C:\\Users\\playdata\\Documents\\SKN14-3rd-2Team\\JeongMinYoung\\utils1\\handle_node.py:22: LangChainDeprecationWarning: The method `BaseRetriever.get_relevant_documents` was deprecated in langchain-core 0.1.46 and will be removed in 1.0. Use :meth:`~invoke` instead.\n",
      "  docs = self_retriever.get_relevant_documents(question)\n"
     ]
    },
    {
     "name": "stdout",
     "output_type": "stream",
     "text": [
      "## 📋 최종 답변\n",
      "\n",
      "**사업 현황 분석**\n",
      "네이버의 2024년 사업보고서는 전반적으로 안정적인 경영 환경을 반영하고 있습니다. 감사보고서에서 적정의견을 받은 점은 기업의 재무 건전성을 나타내며, 이는 투자자들에게 긍정적인 신호로 작용할 것입니다. 정기주주총회에서 재무제표 승인과 이사 선임이 주요 의결사항으로 다뤄지는 점은 기업의 지속적인 성장과 경영 투명성을 강조합니다.\n",
      "\n",
      "**주요 사업 변화**\n",
      "네이버는 2024년 동안 소규모 기술 기업 인수를 진행하며, 이는 기술 혁신과 경쟁력 강화를 위한 전략으로 해석됩니다. 또한, 해외 생산법인 증설과 연구개발 센터 확장은 글로벌 시장에서의 입지를 강화하고, 신사업 분야에 대한 투자는 미래 성장 가능성을 높이는 중요한 요소입니다. 이러한 변화는 네이버가 단순한 플랫폼 기업에서 기술 중심의 혁신 기업으로 나아가고자 하는 의지를 보여줍니다.\n",
      "\n",
      "**전략적 의미**\n",
      "네이버의 향후 계획은 신사업 진출, 투자 및 확장, 조직 개편 등으로 구성되어 있으며, 이는 기업의 지속 가능한 성장을 위한 다각적인 접근을 나타냅니다. 특히, 글로벌 기업과의 기술 제휴 및 공동 연구개발 협약은 네이버가 글로벌 시장에서의 경쟁력을 더욱 강화하고, 혁신적인 기술을 확보하기 위한 전략적 선택으로 볼 수 있습니다. 이러한 방향성은 네이버가 변화하는 시장 환경에 능동적으로 대응하고, 장기적인 성장 기반을 마련하기 위한 노력의 일환으로 해석됩니다. \n",
      "\n",
      "결론적으로, 네이버의 2024년 사업보고서는 안정적인 경영 기반 위에 혁신과 성장을 위한 전략적 변화를 모색하고 있으며, 이는 향후 기업의 지속 가능성과 경쟁력에 긍정적인 영향을 미칠 것으로 예상됩니다.\n"
     ]
    }
   ],
   "execution_count": 2
  },
  {
   "metadata": {
    "ExecuteTime": {
     "end_time": "2025-07-15T17:37:07.601066Z",
     "start_time": "2025-07-15T17:37:06.410562Z"
    }
   },
   "cell_type": "code",
   "source": [
    "question = \"오늘 뭐하지?\"\n",
    "response = run_flexible_rag(question)\n",
    "print(response)"
   ],
   "id": "8060a4e8441b475e",
   "outputs": [
    {
     "name": "stdout",
     "output_type": "stream",
     "text": [
      "일반 질문\n",
      "답변: 해당 내용은 제가 알지 못하는 분야입니다.\n"
     ]
    }
   ],
   "execution_count": 8
  },
  {
   "metadata": {
    "ExecuteTime": {
     "end_time": "2025-07-16T00:53:06.172709Z",
     "start_time": "2025-07-16T00:52:58.630271Z"
    }
   },
   "cell_type": "code",
   "source": [
    "from utils1.retreiver_setting import faiss_retriever_loading\n",
    "\n",
    "account_retriever, business_retriever, business_retriever2, self_retriever = faiss_retriever_loading()\n",
    "\n",
    "# self_retriever.invoke('삼성바이오 2024년 핵심 보고서')\n",
    "\n"
   ],
   "id": "c41eabcf98dbd001",
   "outputs": [],
   "execution_count": 4
  },
  {
   "metadata": {
    "ExecuteTime": {
     "end_time": "2025-07-16T00:55:35.752846Z",
     "start_time": "2025-07-16T00:55:35.743029Z"
    }
   },
   "cell_type": "code",
   "source": [
    "queries_and_answers = [\n",
    "    (\"삼성바이오로직스 2024년 연결 당기순이익\", [\"삼성바이오로직스\", \"2024\", \"연결\", \"당기순이익\"]),\n",
    "    (\"2024년 LG전자 연구개발 활동\", [\"2024\", \"LG전자\", \"연구개발\"]),\n",
    "    (\"2023년 카카오 주요사항 요약\", [\"2023\", \"카카오\", \"주요사항\"]),\n",
    "    (\"NAVER 2024년 EPS는 얼마야?\", [\"NAVER\", \"2024\", \"주당순이익\"]),\n",
    "    (\"SK하이닉스 2023년 배당금 정보 알려줘\", [\"SK하이닉스\", \"2023\", \"배당금\"]),\n",
    "    (\"현대차 2024년 주당액면가액은?\", [\"현대차\", \"2024\", \"주당액면가액\"]),\n",
    "    (\"LG화학의 2022년 현금배당 내역\", [\"LG화학\", \"2022\", \"현금배당\"]),\n",
    "    (\"카카오 2024년 연구개발 투자 비율은?\", [\"카카오\", \"2024\", \"연구개발\", \"투자\", \"비율\"]),\n",
    "    (\"삼성전자 2023년 주요사항 정리해줘\", [\"삼성전자\", \"2023\", \"주요사항\"]),\n",
    "    (\"NAVER 2024년 연결 실적\", [\"NAVER\", \"2024\", \"연결\"]),\n",
    "    (\"LG에너지솔루션의 2023년 EPS\", [\"LG에너지솔루션\", \"2023\", \"주당순이익\"]),\n",
    "    (\"SK이노베이션 2024년 주식배당 수익률\", [\"SK이노베이션\", \"2024\", \"주식배당수익률\"]),\n",
    "    (\"2024년 현대모비스의 연구개발 성과\", [\"현대모비스\", \"2024\", \"연구개발\", \"성과\"]),\n",
    "    (\"카카오 2022년 별도 재무성과\", [\"카카오\", \"2022\", \"별도\"]),\n",
    "    (\"삼성바이오로직스의 2024년 R&D 투자\", [\"삼성바이오로직스\", \"2024\", \"연구개발\", \"투자\"]),\n",
    "]\n"
   ],
   "id": "4640cf8da6543483",
   "outputs": [],
   "execution_count": 6
  },
  {
   "metadata": {
    "ExecuteTime": {
     "end_time": "2025-07-16T00:59:59.133874Z",
     "start_time": "2025-07-16T00:58:35.389969Z"
    }
   },
   "cell_type": "code",
   "source": [
    "from difflib import SequenceMatcher\n",
    "\n",
    "\n",
    "def evaluate_similarity_score(retriever, queries_and_answers):\n",
    "    scores = []\n",
    "    for query, expected_keywords in queries_and_answers:\n",
    "        docs = retriever.invoke(query)\n",
    "        all_text = \" \".join([doc.page_content for doc in docs])\n",
    "        score = sum(SequenceMatcher(None, all_text, kw).ratio() for kw in expected_keywords)\n",
    "        scores.append(score / len(expected_keywords))  # 평균 유사도\n",
    "    return sum(scores) / len(scores)  # 전체 평균\n",
    "\n",
    "\n",
    "def evaluate_contains_score(retriever, queries_and_answers):\n",
    "    scores = []\n",
    "    for query, expected_keywords in queries_and_answers:\n",
    "        docs = retriever.invoke(query)\n",
    "        all_text = \" \".join([doc.page_content for doc in docs])\n",
    "        hit_count = sum(1 for kw in expected_keywords if kw in all_text)\n",
    "        scores.append(hit_count / len(expected_keywords))  # 포함된 키워드 비율\n",
    "    return sum(scores) / len(scores)  # 전체 평균\n",
    "\n",
    "\n",
    "score1_sim = evaluate_similarity_score(business_retriever2, queries_and_answers)\n",
    "score1_contain = evaluate_contains_score(business_retriever2, queries_and_answers)\n",
    "\n",
    "score2_sim = evaluate_similarity_score(self_retriever, queries_and_answers)\n",
    "score2_contain = evaluate_contains_score(self_retriever, queries_and_answers)\n",
    "\n",
    "score3_sim = evaluate_similarity_score(business_retriever, queries_and_answers)\n",
    "score3_contain = evaluate_contains_score(business_retriever, queries_and_answers)\n",
    "\n",
    "print(f\"📊 [No Metadata 필터]\")\n",
    "print(f\" - 유사도 평가 점수: {score1_sim:.3f}\")\n",
    "print(f\" - 키워드 포함 점수: {score1_contain:.3f}\")\n",
    "\n",
    "print(f\"📊 [With Metadata 필터]\")\n",
    "print(f\" - 유사도 평가 점수: {score2_sim:.3f}\")\n",
    "print(f\" - 키워드 포함 점수: {score2_contain:.3f}\")\n",
    "\n",
    "print(f\"📊 [FAISS No Metadata 필터]\")\n",
    "print(f\" - 유사도 평가 점수: {score3_sim:.3f}\")\n",
    "print(f\" - 키워드 포함 점수: {score3_contain:.3f}\")"
   ],
   "id": "76639c2cfb272ee3",
   "outputs": [
    {
     "name": "stdout",
     "output_type": "stream",
     "text": [
      "📊 [No Metadata 필터]\n",
      " - 유사도 평가 점수: 0.004\n",
      " - 키워드 포함 점수: 0.764\n",
      "📊 [With Metadata 필터]\n",
      " - 유사도 평가 점수: 0.004\n",
      " - 키워드 포함 점수: 0.698\n",
      "📊 [FAISS No Metadata 필터]\n",
      " - 유사도 평가 점수: 0.002\n",
      " - 키워드 포함 점수: 0.718\n"
     ]
    }
   ],
   "execution_count": 8
  },
  {
   "metadata": {
    "ExecuteTime": {
     "end_time": "2025-07-16T00:53:12.734228Z",
     "start_time": "2025-07-16T00:53:11.034353Z"
    }
   },
   "cell_type": "code",
   "source": [
    "relevent_docs = business_retriever2.invoke('2024년 삼성전자 사업  ')\n",
    "relevent_docs"
   ],
   "id": "c80ec8f02eb37ff9",
   "outputs": [
    {
     "data": {
      "text/plain": [
       "[Document(id='7c832bb3-8940-4cd5-b282-3a80972bdd5b', metadata={'content_type': 'company_overview', 'corp_code': '00126380', 'corp_name': '삼성전자', 'section': '기업개요', 'source': 'business_report', 'year': '2024'}, page_content='삼성전자 기업개요 (2024년 기준)\\n                기업명: 삼성전자\\n                기업코드: 00126380\\n                연도: 2024년\\n                주요 사업: 전자제품 제조 및 판매\\n                사업분야: 반도체, 디스플레이, 모바일 등'),\n",
       " Document(id='85bae278-eaec-4b61-a54c-74a3384e27ec', metadata={'content_type': 'business_content', 'corp_code': '00126229', 'corp_name': '삼성물산', 'section': '사업의 내용', 'source': 'business_report', 'year': '2024'}, page_content='삼성물산 2024년 사업의 내용\\n                주요 사업 분야: \\n                - 반도체 사업: 메모리 반도체, 시스템 반도체 제조\\n                - 디스플레이 사업: OLED, LCD 패널 제조\\n                - IT & 모바일 사업: 스마트폰, 태블릿 제조\\n                - 가전 사업: 냉장고, 세탁기, 에어컨 제조\\n                \\n                매출 구성:\\n                - 국내 매출: 전체 매출의 30%\\n                - 해외 매출: 전체 매출의 70%\\n                \\n                주요 제품 및 서비스:\\n                - 메모리 반도체 (DRAM, NAND Flash)\\n                - 모바일 프로세서 (Exynos)\\n                - 스마트폰 (Galaxy 시리즈)\\n                - 디스플레이 패널'),\n",
       " Document(id='28d1691f-2834-4232-84f7-642109feebe5', metadata={'content_type': 'business_content', 'corp_code': '00126380', 'corp_name': '삼성전자', 'section': '사업의 내용', 'source': 'business_report', 'year': '2022'}, page_content='삼성전자 2022년 사업의 내용\\n                주요 사업 분야: \\n                - 반도체 사업: 메모리 반도체, 시스템 반도체 제조\\n                - 디스플레이 사업: OLED, LCD 패널 제조\\n                - IT & 모바일 사업: 스마트폰, 태블릿 제조\\n                - 가전 사업: 냉장고, 세탁기, 에어컨 제조\\n                \\n                매출 구성:\\n                - 국내 매출: 전체 매출의 30%\\n                - 해외 매출: 전체 매출의 70%\\n                \\n                주요 제품 및 서비스:\\n                - 메모리 반도체 (DRAM, NAND Flash)\\n                - 모바일 프로세서 (Exynos)\\n                - 스마트폰 (Galaxy 시리즈)\\n                - 디스플레이 패널'),\n",
       " Document(id='977948c5-9e9f-4ed0-9f23-c8d9ab0e7823', metadata={'account_id': 'dart_OperatingIncomeLoss', 'account_nm': '영업이익', 'category': '재무제표', 'corp_code': '126380', 'corp_name': '삼성전자', 'currency': 'KRW', 'item': '영업이익', 'rcept_no': '20250311001085', 'section': '재무지표', 'source': 'csv', 'year': '2024'}, page_content='삼성전자 2024년 영업이익\\n                        - 금액: 32725961000000원\\n                        - 기간: 제제 56 기\\n                        - 이전년도: 6566976000000.0원 (제제 55 기)\\n                        - 전전년도: 43376630000000.0원 (제제 54 기)\\n                        - 통화: KRW\\n                        - 계정과목: 영업이익\\n                        - 계정코드: dart_OperatingIncomeLoss'),\n",
       " Document(id='c3283184-7aa6-4f7f-939f-58e99f6d5b8a', metadata={'content_type': 'key_matters', 'corp_code': '00126380', 'corp_name': '삼성전자', 'section': '주요사항', 'source': 'business_report', 'year': '2024'}, page_content='삼성전자 2024년 주요사항\\n                    항목: (연결)주당순이익(원)\\n                    당기: 4,950\\n                    전기: 2,131\\n                    전전기: 8,057'),\n",
       " Document(id='5ae88ecb-8645-48e4-87c2-5bc71c7049b9', metadata={'account_id': 'ifrs-full_GrossProfit', 'account_nm': '매출총이익', 'category': '재무제표', 'corp_code': '126380', 'corp_name': '삼성전자', 'currency': 'KRW', 'item': '매출총이익', 'rcept_no': '20250311001085', 'section': '재무지표', 'source': 'csv', 'year': '2024'}, page_content='삼성전자 2024년 매출총이익\\n                        - 금액: 114308635000000원\\n                        - 기간: 제제 56 기\\n                        - 이전년도: 78546914000000.0원 (제제 55 기)\\n                        - 전전년도: 112189590000000.0원 (제제 54 기)\\n                        - 통화: KRW\\n                        - 계정과목: 매출총이익\\n                        - 계정코드: ifrs-full_GrossProfit'),\n",
       " Document(id='bb7e750d-59b3-4dc1-9685-f64b6dde13b8', metadata={'content_type': 'key_matters', 'corp_code': '00126380', 'corp_name': '삼성전자', 'section': '주요사항', 'source': 'business_report', 'year': '2024'}, page_content='삼성전자 2024년 주요사항\\n                    항목: 주식배당수익률(%)\\n                    당기: -\\n                    전기: -\\n                    전전기: -'),\n",
       " Document(id='67d78a04-a1b9-4156-9006-29de31dfbdd0', metadata={'content_type': 'key_matters', 'corp_code': '00126380', 'corp_name': '삼성전자', 'section': '주요사항', 'source': 'business_report', 'year': '2024'}, page_content='삼성전자 2024년 주요사항\\n                    항목: 주식배당수익률(%)\\n                    당기: -\\n                    전기: -\\n                    전전기: -'),\n",
       " Document(id='f315bc0c-2d39-4c0a-8463-c321a0df5dc1', metadata={'account_id': 'ifrs-full_CostOfSales', 'account_nm': '매출원가', 'category': '재무제표', 'corp_code': '126380', 'corp_name': '삼성전자', 'currency': 'KRW', 'item': '매출원가', 'rcept_no': '20250311001085', 'section': '재무지표', 'source': 'csv', 'year': '2024'}, page_content='삼성전자 2024년 매출원가\\n                        - 금액: 186562268000000원\\n                        - 기간: 제제 56 기\\n                        - 이전년도: 180388580000000.0원 (제제 55 기)\\n                        - 전전년도: 190041770000000.0원 (제제 54 기)\\n                        - 통화: KRW\\n                        - 계정과목: 매출원가\\n                        - 계정코드: ifrs-full_CostOfSales'),\n",
       " Document(id='5580465c-159a-4604-b3d5-cabb4fa274e0', metadata={'content_type': 'company_overview', 'corp_code': '00126380', 'corp_name': '삼성전자', 'section': '기업개요', 'source': 'business_report', 'year': '2023'}, page_content='삼성전자 기업개요 (2023년 기준)\\n                기업명: 삼성전자\\n                기업코드: 00126380\\n                연도: 2023년\\n                주요 사업: 전자제품 제조 및 판매\\n                사업분야: 반도체, 디스플레이, 모바일 등')]"
      ]
     },
     "execution_count": 5,
     "metadata": {},
     "output_type": "execute_result"
    }
   ],
   "execution_count": 5
  },
  {
   "metadata": {
    "ExecuteTime": {
     "end_time": "2025-07-16T00:44:12.345060Z",
     "start_time": "2025-07-16T00:44:09.353303Z"
    }
   },
   "cell_type": "code",
   "source": [
    "relevent_docs = self_retriever.invoke('2024년 삼성전자 사업 ')\n",
    "relevent_docs"
   ],
   "id": "6b431293b92da66d",
   "outputs": [
    {
     "data": {
      "text/plain": [
       "[Document(id='7c832bb3-8940-4cd5-b282-3a80972bdd5b', metadata={'content_type': 'company_overview', 'corp_code': '00126380', 'corp_name': '삼성전자', 'section': '기업개요', 'source': 'business_report', 'year': '2024'}, page_content='삼성전자 기업개요 (2024년 기준)\\n                기업명: 삼성전자\\n                기업코드: 00126380\\n                연도: 2024년\\n                주요 사업: 전자제품 제조 및 판매\\n                사업분야: 반도체, 디스플레이, 모바일 등'),\n",
       " Document(id='977948c5-9e9f-4ed0-9f23-c8d9ab0e7823', metadata={'account_id': 'dart_OperatingIncomeLoss', 'account_nm': '영업이익', 'category': '재무제표', 'corp_code': '126380', 'corp_name': '삼성전자', 'currency': 'KRW', 'item': '영업이익', 'rcept_no': '20250311001085', 'section': '재무지표', 'source': 'csv', 'year': '2024'}, page_content='삼성전자 2024년 영업이익\\n                        - 금액: 32725961000000원\\n                        - 기간: 제제 56 기\\n                        - 이전년도: 6566976000000.0원 (제제 55 기)\\n                        - 전전년도: 43376630000000.0원 (제제 54 기)\\n                        - 통화: KRW\\n                        - 계정과목: 영업이익\\n                        - 계정코드: dart_OperatingIncomeLoss'),\n",
       " Document(id='d67cc42b-6893-45a5-99da-7172aecc4a84', metadata={'content_type': 'research_development', 'corp_code': '00126380', 'corp_name': '삼성전자', 'section': '연구개발 활동', 'source': 'business_report', 'year': '2024'}, page_content='삼성전자 2024년 연구개발 활동\\n                연구개발 투자:\\n                - 연구개발비: 전년 대비 증가\\n                - 매출액 대비 연구개발비 비율: 8.5%\\n                - 연구개발 인력: 전체 임직원의 25%\\n                \\n                주요 연구개발 분야:\\n                - 차세대 반도체 기술\\n                - 인공지능 및 머신러닝\\n                - 5G/6G 통신 기술\\n                - 친환경 기술\\n                \\n                연구개발 성과:\\n                - 특허 출원: 연간 1,000건 이상\\n                - 국제 표준화 참여\\n                - 산학협력 프로젝트 수행'),\n",
       " Document(id='5ae88ecb-8645-48e4-87c2-5bc71c7049b9', metadata={'account_id': 'ifrs-full_GrossProfit', 'account_nm': '매출총이익', 'category': '재무제표', 'corp_code': '126380', 'corp_name': '삼성전자', 'currency': 'KRW', 'item': '매출총이익', 'rcept_no': '20250311001085', 'section': '재무지표', 'source': 'csv', 'year': '2024'}, page_content='삼성전자 2024년 매출총이익\\n                        - 금액: 114308635000000원\\n                        - 기간: 제제 56 기\\n                        - 이전년도: 78546914000000.0원 (제제 55 기)\\n                        - 전전년도: 112189590000000.0원 (제제 54 기)\\n                        - 통화: KRW\\n                        - 계정과목: 매출총이익\\n                        - 계정코드: ifrs-full_GrossProfit'),\n",
       " Document(id='f315bc0c-2d39-4c0a-8463-c321a0df5dc1', metadata={'account_id': 'ifrs-full_CostOfSales', 'account_nm': '매출원가', 'category': '재무제표', 'corp_code': '126380', 'corp_name': '삼성전자', 'currency': 'KRW', 'item': '매출원가', 'rcept_no': '20250311001085', 'section': '재무지표', 'source': 'csv', 'year': '2024'}, page_content='삼성전자 2024년 매출원가\\n                        - 금액: 186562268000000원\\n                        - 기간: 제제 56 기\\n                        - 이전년도: 180388580000000.0원 (제제 55 기)\\n                        - 전전년도: 190041770000000.0원 (제제 54 기)\\n                        - 통화: KRW\\n                        - 계정과목: 매출원가\\n                        - 계정코드: ifrs-full_CostOfSales'),\n",
       " Document(id='6c53305f-f555-4cdd-b8bd-51537fe78017', metadata={'content_type': 'company_overview', 'corp_code': '00126256', 'corp_name': '삼성생명', 'section': '기업개요', 'source': 'business_report', 'year': '2024'}, page_content='삼성생명 기업개요 (2024년 기준)\\n                기업명: 삼성생명\\n                기업코드: 00126256\\n                연도: 2024년\\n                주요 사업: 전자제품 제조 및 판매\\n                사업분야: 반도체, 디스플레이, 모바일 등'),\n",
       " Document(id='c3283184-7aa6-4f7f-939f-58e99f6d5b8a', metadata={'content_type': 'key_matters', 'corp_code': '00126380', 'corp_name': '삼성전자', 'section': '주요사항', 'source': 'business_report', 'year': '2024'}, page_content='삼성전자 2024년 주요사항\\n                    항목: (연결)주당순이익(원)\\n                    당기: 4,950\\n                    전기: 2,131\\n                    전전기: 8,057'),\n",
       " Document(id='89641a29-8ae9-4edc-8cca-1215dd0ceece', metadata={'content_type': 'key_matters', 'corp_code': '00126380', 'corp_name': '삼성전자', 'section': '주요사항', 'source': 'business_report', 'year': '2024'}, page_content='삼성전자 2024년 주요사항\\n                    항목: 현금배당수익률(%)\\n                    당기: 2.70\\n                    전기: 1.90\\n                    전전기: 2.50'),\n",
       " Document(id='67d78a04-a1b9-4156-9006-29de31dfbdd0', metadata={'content_type': 'key_matters', 'corp_code': '00126380', 'corp_name': '삼성전자', 'section': '주요사항', 'source': 'business_report', 'year': '2024'}, page_content='삼성전자 2024년 주요사항\\n                    항목: 주식배당수익률(%)\\n                    당기: -\\n                    전기: -\\n                    전전기: -'),\n",
       " Document(id='bb7e750d-59b3-4dc1-9685-f64b6dde13b8', metadata={'content_type': 'key_matters', 'corp_code': '00126380', 'corp_name': '삼성전자', 'section': '주요사항', 'source': 'business_report', 'year': '2024'}, page_content='삼성전자 2024년 주요사항\\n                    항목: 주식배당수익률(%)\\n                    당기: -\\n                    전기: -\\n                    전전기: -')]"
      ]
     },
     "execution_count": 3,
     "metadata": {},
     "output_type": "execute_result"
    }
   ],
   "execution_count": 3
  },
  {
   "metadata": {
    "ExecuteTime": {
     "end_time": "2025-07-15T15:39:29.420475Z",
     "start_time": "2025-07-15T15:39:28.156901Z"
    }
   },
   "cell_type": "code",
   "source": [
    "# 쿼리 생성기에 직접 접근\n",
    "query_constructor = self_retriever.query_constructor\n",
    "\n",
    "# 사용자 쿼리를 구조화된 쿼리로 변환\n",
    "user_query = \"삼성전자 기업의 2022년부터 2024년까지의 핵심 보고서\"\n",
    "structured_query = query_constructor.invoke({\"query\": user_query})\n",
    "\n",
    "print(\"원본 쿼리:\", user_query)\n",
    "print(\"변환된 쿼리:\", structured_query)"
   ],
   "id": "3a6d3a1e55b2c720",
   "outputs": [
    {
     "name": "stdout",
     "output_type": "stream",
     "text": [
      "원본 쿼리: 삼성전자 기업의 2022년부터 2024년까지의 핵심 보고서\n",
      "변환된 쿼리: query='삼성전자 핵심 보고서' filter=Operation(operator=<Operator.AND: 'and'>, arguments=[Comparison(comparator=<Comparator.GTE: 'gte'>, attribute='year', value='2022'), Comparison(comparator=<Comparator.LTE: 'lte'>, attribute='year', value='2024')]) limit=None\n"
     ]
    }
   ],
   "execution_count": 5
  },
  {
   "metadata": {
    "ExecuteTime": {
     "end_time": "2025-07-15T16:22:00.623907Z",
     "start_time": "2025-07-15T16:21:59.106592Z"
    }
   },
   "cell_type": "code",
   "source": [
    "relevent_docs2 = business_retriever2.invoke('삼성바이오 2024년 핵심 보고서', k=10)\n",
    "len(relevent_docs2)"
   ],
   "id": "fd8f222190425e3a",
   "outputs": [
    {
     "data": {
      "text/plain": [
       "10"
      ]
     },
     "execution_count": 19,
     "metadata": {},
     "output_type": "execute_result"
    }
   ],
   "execution_count": 19
  },
  {
   "metadata": {
    "ExecuteTime": {
     "end_time": "2025-07-15T16:22:04.747562Z",
     "start_time": "2025-07-15T16:22:04.741880Z"
    }
   },
   "cell_type": "code",
   "source": "relevent_docs2",
   "id": "6f8de6a9a1e4ead",
   "outputs": [
    {
     "data": {
      "text/plain": [
       "[Document(id='b7c74045-1218-4752-b69d-c94058a66722', metadata={'content_type': 'key_matters', 'corp_code': '00877059', 'corp_name': '삼성바이오로직스', 'section': '주요사항', 'source': 'business_report', 'year': '2024'}, page_content='삼성바이오로직스 2024년 주요사항\\n                    항목: 주식배당금총액(백만원)\\n                    당기: -\\n                    전기: -\\n                    전전기: -'),\n",
       " Document(id='12ab6704-8d21-4a24-b3f5-26ac1d6a1fce', metadata={'content_type': 'key_matters', 'corp_code': '00877059', 'corp_name': '삼성바이오로직스', 'section': '주요사항', 'source': 'business_report', 'year': '2024'}, page_content='삼성바이오로직스 2024년 주요사항\\n                    항목: 현금배당금총액(백만원)\\n                    당기: -\\n                    전기: -\\n                    전전기: -'),\n",
       " Document(id='dc2e2309-cb52-4bee-a0d3-d4809db4bd74', metadata={'content_type': 'key_matters', 'corp_code': '00877059', 'corp_name': '삼성바이오로직스', 'section': '주요사항', 'source': 'business_report', 'year': '2024'}, page_content='삼성바이오로직스 2024년 주요사항\\n                    항목: (별도)당기순이익(백만원)\\n                    당기: 1,050,967\\n                    전기: 945,920\\n                    전전기: 686,793'),\n",
       " Document(id='7da4191c-96c6-4e56-97be-c2902957271a', metadata={'content_type': 'key_matters', 'corp_code': '00877059', 'corp_name': '삼성바이오로직스', 'section': '주요사항', 'source': 'business_report', 'year': '2024'}, page_content='삼성바이오로직스 2024년 주요사항\\n                    항목: (연결)당기순이익(백만원)\\n                    당기: 1,083,316\\n                    전기: 857,691\\n                    전전기: 798,056'),\n",
       " Document(id='1354c78a-c0a2-4e73-85a8-e20528f57c5d', metadata={'content_type': 'research_development', 'corp_code': '00877059', 'corp_name': '삼성바이오로직스', 'section': '연구개발 활동', 'source': 'business_report', 'year': '2024'}, page_content='삼성바이오로직스 2024년 연구개발 활동\\n                연구개발 투자:\\n                - 연구개발비: 전년 대비 증가\\n                - 매출액 대비 연구개발비 비율: 8.5%\\n                - 연구개발 인력: 전체 임직원의 25%\\n                \\n                주요 연구개발 분야:\\n                - 차세대 반도체 기술\\n                - 인공지능 및 머신러닝\\n                - 5G/6G 통신 기술\\n                - 친환경 기술\\n                \\n                연구개발 성과:\\n                - 특허 출원: 연간 1,000건 이상\\n                - 국제 표준화 참여\\n                - 산학협력 프로젝트 수행'),\n",
       " Document(id='c576e64b-909b-4b60-abdd-c2c498c10e56', metadata={'content_type': 'key_matters', 'corp_code': '00877059', 'corp_name': '삼성바이오로직스', 'section': '주요사항', 'source': 'business_report', 'year': '2024'}, page_content='삼성바이오로직스 2024년 주요사항\\n                    항목: 주식배당수익률(%)\\n                    당기: -\\n                    전기: -\\n                    전전기: -'),\n",
       " Document(id='bb08ec3e-604e-4362-b472-b9d92570644e', metadata={'content_type': 'key_matters', 'corp_code': '00877059', 'corp_name': '삼성바이오로직스', 'section': '주요사항', 'source': 'business_report', 'year': '2024'}, page_content='삼성바이오로직스 2024년 주요사항\\n                    항목: 주식배당수익률(%)\\n                    당기: -\\n                    전기: -\\n                    전전기: -'),\n",
       " Document(id='305fdd9d-cf21-44f4-9f78-0c8d14b4ac44', metadata={'content_type': 'key_matters', 'corp_code': '00877059', 'corp_name': '삼성바이오로직스', 'section': '주요사항', 'source': 'business_report', 'year': '2024'}, page_content='삼성바이오로직스 2024년 주요사항\\n                    항목: 주당 주식배당(주)\\n                    당기: -\\n                    전기: -\\n                    전전기: -'),\n",
       " Document(id='1d8185ec-74d1-4772-a5ae-8d6d264676b6', metadata={'content_type': 'key_matters', 'corp_code': '00877059', 'corp_name': '삼성바이오로직스', 'section': '주요사항', 'source': 'business_report', 'year': '2024'}, page_content='삼성바이오로직스 2024년 주요사항\\n                    항목: 주당 주식배당(주)\\n                    당기: -\\n                    전기: -\\n                    전전기: -'),\n",
       " Document(id='ab531baf-2229-4f2b-8bc6-b6b52b0ced22', metadata={'content_type': 'key_matters', 'corp_code': '00877059', 'corp_name': '삼성바이오로직스', 'section': '주요사항', 'source': 'business_report', 'year': '2024'}, page_content='삼성바이오로직스 2024년 주요사항\\n                    항목: (연결)현금배당성향(%)\\n                    당기: -\\n                    전기: -\\n                    전전기: -')]"
      ]
     },
     "execution_count": 20,
     "metadata": {},
     "output_type": "execute_result"
    }
   ],
   "execution_count": 20
  },
  {
   "metadata": {
    "ExecuteTime": {
     "end_time": "2025-07-15T14:26:35.079356Z",
     "start_time": "2025-07-15T14:26:35.071418Z"
    }
   },
   "cell_type": "code",
   "source": "relevent_docs2",
   "id": "bf683e2199dc11de",
   "outputs": [
    {
     "data": {
      "text/plain": [
       "[Document(id='b7c74045-1218-4752-b69d-c94058a66722', metadata={'content_type': 'key_matters', 'corp_code': '00877059', 'corp_name': '삼성바이오로직스', 'section': '주요사항', 'source': 'business_report', 'year': '2024'}, page_content='삼성바이오로직스 2024년 주요사항\\n                    항목: 주식배당금총액(백만원)\\n                    당기: -\\n                    전기: -\\n                    전전기: -'),\n",
       " Document(id='12ab6704-8d21-4a24-b3f5-26ac1d6a1fce', metadata={'content_type': 'key_matters', 'corp_code': '00877059', 'corp_name': '삼성바이오로직스', 'section': '주요사항', 'source': 'business_report', 'year': '2024'}, page_content='삼성바이오로직스 2024년 주요사항\\n                    항목: 현금배당금총액(백만원)\\n                    당기: -\\n                    전기: -\\n                    전전기: -'),\n",
       " Document(id='dc2e2309-cb52-4bee-a0d3-d4809db4bd74', metadata={'content_type': 'key_matters', 'corp_code': '00877059', 'corp_name': '삼성바이오로직스', 'section': '주요사항', 'source': 'business_report', 'year': '2024'}, page_content='삼성바이오로직스 2024년 주요사항\\n                    항목: (별도)당기순이익(백만원)\\n                    당기: 1,050,967\\n                    전기: 945,920\\n                    전전기: 686,793'),\n",
       " Document(id='7da4191c-96c6-4e56-97be-c2902957271a', metadata={'content_type': 'key_matters', 'corp_code': '00877059', 'corp_name': '삼성바이오로직스', 'section': '주요사항', 'source': 'business_report', 'year': '2024'}, page_content='삼성바이오로직스 2024년 주요사항\\n                    항목: (연결)당기순이익(백만원)\\n                    당기: 1,083,316\\n                    전기: 857,691\\n                    전전기: 798,056'),\n",
       " Document(id='1354c78a-c0a2-4e73-85a8-e20528f57c5d', metadata={'content_type': 'research_development', 'corp_code': '00877059', 'corp_name': '삼성바이오로직스', 'section': '연구개발 활동', 'source': 'business_report', 'year': '2024'}, page_content='삼성바이오로직스 2024년 연구개발 활동\\n                연구개발 투자:\\n                - 연구개발비: 전년 대비 증가\\n                - 매출액 대비 연구개발비 비율: 8.5%\\n                - 연구개발 인력: 전체 임직원의 25%\\n                \\n                주요 연구개발 분야:\\n                - 차세대 반도체 기술\\n                - 인공지능 및 머신러닝\\n                - 5G/6G 통신 기술\\n                - 친환경 기술\\n                \\n                연구개발 성과:\\n                - 특허 출원: 연간 1,000건 이상\\n                - 국제 표준화 참여\\n                - 산학협력 프로젝트 수행'),\n",
       " Document(id='c576e64b-909b-4b60-abdd-c2c498c10e56', metadata={'content_type': 'key_matters', 'corp_code': '00877059', 'corp_name': '삼성바이오로직스', 'section': '주요사항', 'source': 'business_report', 'year': '2024'}, page_content='삼성바이오로직스 2024년 주요사항\\n                    항목: 주식배당수익률(%)\\n                    당기: -\\n                    전기: -\\n                    전전기: -'),\n",
       " Document(id='bb08ec3e-604e-4362-b472-b9d92570644e', metadata={'content_type': 'key_matters', 'corp_code': '00877059', 'corp_name': '삼성바이오로직스', 'section': '주요사항', 'source': 'business_report', 'year': '2024'}, page_content='삼성바이오로직스 2024년 주요사항\\n                    항목: 주식배당수익률(%)\\n                    당기: -\\n                    전기: -\\n                    전전기: -'),\n",
       " Document(id='1d8185ec-74d1-4772-a5ae-8d6d264676b6', metadata={'content_type': 'key_matters', 'corp_code': '00877059', 'corp_name': '삼성바이오로직스', 'section': '주요사항', 'source': 'business_report', 'year': '2024'}, page_content='삼성바이오로직스 2024년 주요사항\\n                    항목: 주당 주식배당(주)\\n                    당기: -\\n                    전기: -\\n                    전전기: -'),\n",
       " Document(id='305fdd9d-cf21-44f4-9f78-0c8d14b4ac44', metadata={'content_type': 'key_matters', 'corp_code': '00877059', 'corp_name': '삼성바이오로직스', 'section': '주요사항', 'source': 'business_report', 'year': '2024'}, page_content='삼성바이오로직스 2024년 주요사항\\n                    항목: 주당 주식배당(주)\\n                    당기: -\\n                    전기: -\\n                    전전기: -'),\n",
       " Document(id='f13daae9-1482-46b5-bb7e-953ab716fc49', metadata={'content_type': 'key_matters', 'corp_code': '00877059', 'corp_name': '삼성바이오로직스', 'section': '주요사항', 'source': 'business_report', 'year': '2024'}, page_content='삼성바이오로직스 2024년 주요사항\\n                    항목: 현금배당수익률(%)\\n                    당기: -\\n                    전기: -\\n                    전전기: -')]"
      ]
     },
     "execution_count": 16,
     "metadata": {},
     "output_type": "execute_result"
    }
   ],
   "execution_count": 16
  },
  {
   "metadata": {
    "ExecuteTime": {
     "end_time": "2025-07-17T00:36:15.091073Z",
     "start_time": "2025-07-17T00:36:12.376654Z"
    }
   },
   "cell_type": "code",
   "source": [
    "# ragas_evaluator.py\n",
    "\n",
    "from utils1.main import run_flexible_rag\n",
    "from datasets import Dataset\n",
    "from ragas import evaluate\n",
    "from ragas.metrics import (\n",
    "    faithfulness,\n",
    "    answer_relevancy,\n",
    "    context_precision,\n",
    "    context_recall,\n",
    ")\n",
    "import os\n",
    "from dotenv import load_dotenv\n",
    "\n",
    "# .env 파일에서 OPENAI_API_KEY 불러오기\n",
    "load_dotenv()\n",
    "os.environ[\"OPENAI_API_KEY\"] = os.getenv(\"OPENAI_API_KEY\")\n",
    "\n",
    "def evaluate_rag_system(query: str):\n",
    "    # 1. RAG 시스템 실행\n",
    "    result = run_flexible_rag(query)\n",
    "\n",
    "    # 2. 반환값 타입 체크\n",
    "    if not isinstance(result, dict):\n",
    "        raise ValueError(\"run_flexible_rag()는 dict를 반환해야 합니다.\")\n",
    "\n",
    "    # 3. 필드 추출\n",
    "    question = query\n",
    "    answer = result.get(\"generated_answer\")\n",
    "    contexts = result.get(\"retrieved_docs\")\n",
    "    ground_truth = result.get(\"ground_truth\", \"\")\n",
    "\n",
    "    if not isinstance(contexts, list):\n",
    "        raise ValueError(\"retrieved_docs는 문자열 리스트(List[str])여야 합니다.\")\n",
    "    if not isinstance(answer, str):\n",
    "        raise ValueError(\"generated_answer는 문자열(str)이어야 합니다.\")\n",
    "    if not isinstance(ground_truth, str):\n",
    "        ground_truth = \"\"\n",
    "\n",
    "    # 4. ragas 입력 포맷 구성\n",
    "    data = {\n",
    "        \"question\": [question],\n",
    "        \"answer\": [answer],\n",
    "        \"contexts\": [contexts],         # List[str] 형태 유지\n",
    "        \"ground_truth\": [ground_truth]  # 문자열 리스트 한 겹\n",
    "    }\n",
    "\n",
    "    # 5. HuggingFace Dataset 변환\n",
    "    ragas_dataset = Dataset.from_dict(data)\n",
    "\n",
    "    # 6. 평가 메트릭 리스트\n",
    "    metrics = [\n",
    "        faithfulness,\n",
    "        answer_relevancy,\n",
    "        context_precision,\n",
    "        context_recall,\n",
    "    ]\n",
    "\n",
    "    # 7. 평가 실행\n",
    "    results = evaluate(ragas_dataset, metrics=metrics)\n",
    "\n",
    "    return results\n",
    "\n",
    "\n",
    "if __name__ == \"__main__\":\n",
    "    test_query = \"Who is the president of South Korea?\"\n",
    "\n",
    "    try:\n",
    "        eval_results = evaluate_rag_system(test_query)\n",
    "\n",
    "        print(\"RAGAS 평가 결과:\")\n",
    "        # EvaluationResult는 dict와 유사하지만 .items()가 없을 수 있음\n",
    "        for metric in eval_results:\n",
    "            print(f\"{metric}: {eval_results[metric]:.2f}\")\n",
    "\n",
    "    except Exception as e:\n",
    "        print(\"오류 발생:\", e)\n"
   ],
   "id": "47cdfdd2b229ed86",
   "outputs": [
    {
     "name": "stdout",
     "output_type": "stream",
     "text": [
      "일반 질문\n",
      "오류 발생: run_flexible_rag()는 dict를 반환해야 합니다.\n"
     ]
    }
   ],
   "execution_count": 14
  },
  {
   "metadata": {},
   "cell_type": "code",
   "outputs": [],
   "execution_count": null,
   "source": "",
   "id": "97349f5738130cb4"
  },
  {
   "metadata": {
    "ExecuteTime": {
     "end_time": "2025-07-17T00:35:14.985108Z",
     "start_time": "2025-07-17T00:35:09.174977Z"
    }
   },
   "cell_type": "code",
   "source": [
    "if __name__ == \"__main__\":\n",
    "    query = \"Who is the president of South Korea?\"\n",
    "    result = evaluate_rag_system(query)\n",
    "    print(\"RAGAS 평가 결과:\")\n",
    "    for metric, score in result.items():\n",
    "        print(f\"{metric}: {score:.2f}\")\n"
   ],
   "id": "8ae5a72f15151c63",
   "outputs": [
    {
     "name": "stderr",
     "output_type": "stream",
     "text": [
      "Evaluating: 100%|██████████| 4/4 [00:04<00:00,  1.22s/it]\n"
     ]
    },
    {
     "name": "stdout",
     "output_type": "stream",
     "text": [
      "RAGAS 평가 결과:\n"
     ]
    },
    {
     "ename": "AttributeError",
     "evalue": "'EvaluationResult' object has no attribute 'items'",
     "output_type": "error",
     "traceback": [
      "\u001B[31m---------------------------------------------------------------------------\u001B[39m",
      "\u001B[31mAttributeError\u001B[39m                            Traceback (most recent call last)",
      "\u001B[36mCell\u001B[39m\u001B[36m \u001B[39m\u001B[32mIn[13]\u001B[39m\u001B[32m, line 5\u001B[39m\n\u001B[32m      3\u001B[39m result = evaluate_rag_system(query)\n\u001B[32m      4\u001B[39m \u001B[38;5;28mprint\u001B[39m(\u001B[33m\"\u001B[39m\u001B[33mRAGAS 평가 결과:\u001B[39m\u001B[33m\"\u001B[39m)\n\u001B[32m----> \u001B[39m\u001B[32m5\u001B[39m \u001B[38;5;28;01mfor\u001B[39;00m metric, score \u001B[38;5;129;01min\u001B[39;00m \u001B[43mresult\u001B[49m\u001B[43m.\u001B[49m\u001B[43mitems\u001B[49m():\n\u001B[32m      6\u001B[39m     \u001B[38;5;28mprint\u001B[39m(\u001B[33mf\u001B[39m\u001B[33m\"\u001B[39m\u001B[38;5;132;01m{\u001B[39;00mmetric\u001B[38;5;132;01m}\u001B[39;00m\u001B[33m: \u001B[39m\u001B[38;5;132;01m{\u001B[39;00mscore\u001B[38;5;132;01m:\u001B[39;00m\u001B[33m.2f\u001B[39m\u001B[38;5;132;01m}\u001B[39;00m\u001B[33m\"\u001B[39m)\n",
      "\u001B[31mAttributeError\u001B[39m: 'EvaluationResult' object has no attribute 'items'"
     ]
    }
   ],
   "execution_count": 13
  }
 ],
 "metadata": {
  "kernelspec": {
   "display_name": "Python 3",
   "language": "python",
   "name": "python3"
  },
  "language_info": {
   "codemirror_mode": {
    "name": "ipython",
    "version": 2
   },
   "file_extension": ".py",
   "mimetype": "text/x-python",
   "name": "python",
   "nbconvert_exporter": "python",
   "pygments_lexer": "ipython2",
   "version": "2.7.6"
  }
 },
 "nbformat": 4,
 "nbformat_minor": 5
}
