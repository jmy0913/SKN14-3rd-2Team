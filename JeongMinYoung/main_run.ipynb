{
 "cells": [
  {
   "metadata": {},
   "cell_type": "markdown",
   "source": "## 답변 내용 체크",
   "id": "b346a57b3dc3112c"
  },
  {
   "metadata": {
    "ExecuteTime": {
     "end_time": "2025-07-17T03:28:28.634836Z",
     "start_time": "2025-07-17T03:28:06.094887Z"
    }
   },
   "cell_type": "code",
   "source": "from utils1.main import run_flexible_rag1, run_flexible_rag2, run_flexible_rag3",
   "id": "2cf549dbca622768",
   "outputs": [
    {
     "name": "stderr",
     "output_type": "stream",
     "text": [
      "C:\\Workspaces\\3rd_team_project\\JeongMinYoung\\utils1\\retreiver_setting.py:71: LangChainDeprecationWarning: The class `OpenAIEmbeddings` was deprecated in LangChain 0.0.9 and will be removed in 1.0. An updated version of the class exists in the :class:`~langchain-openai package and should be used instead. To use it run `pip install -U :class:`~langchain-openai` and import as `from :class:`~langchain_openai import OpenAIEmbeddings``.\n",
      "  embeddings = OpenAIEmbeddings(model=EMBEDDING_MODEL)\n"
     ]
    }
   ],
   "execution_count": 1
  },
  {
   "metadata": {},
   "cell_type": "markdown",
   "source": "## 사업보고서 rag chain 테스트",
   "id": "87ea6f9dd000809c"
  },
  {
   "metadata": {
    "ExecuteTime": {
     "end_time": "2025-07-17T00:23:22.681302Z",
     "start_time": "2025-07-17T00:23:17.478922Z"
    }
   },
   "cell_type": "code",
   "source": [
    "question = \"삼성전자 2022년 사업 상황 알려줘\"\n",
    "response = run_flexible_rag1(question)\n",
    "print(response)"
   ],
   "id": "e57884a4d26c7a24",
   "outputs": [
    {
     "name": "stdout",
     "output_type": "stream",
     "text": [
      "📥 business 처리 시작\n"
     ]
    },
    {
     "name": "stderr",
     "output_type": "stream",
     "text": [
      "C:\\Workspaces\\3rd_team_project\\JeongMinYoung\\utils1\\handle_node.py:40: LangChainDeprecationWarning: The method `BaseRetriever.get_relevant_documents` was deprecated in langchain-core 0.1.46 and will be removed in 1.0. Use :meth:`~invoke` instead.\n",
      "  docs = self_retriever.get_relevant_documents(question)\n"
     ]
    },
    {
     "name": "stdout",
     "output_type": "stream",
     "text": [
      "안녕하세요! 삼성전자 2022년 사업 상황에 대해 가장 중요한 것만 알려드릴게요.\n",
      "\n",
      "**이 회사는요,** 반도체, 디스플레이, 스마트폰, 가전제품을 만드는 곳이에요. 쉽게 말해, 우리가 자주 쓰는 전자제품을 만드는 회사죠.\n",
      "\n",
      "**가장 큰 이슈는** 해외 매출이 전체의 70%를 차지할 만큼 글로벌 시장에서 활발히 활동하고 있다는 점이에요.\n",
      "\n",
      "더 궁금한 게 생기면 언제든 다시 물어보세요!\n"
     ]
    }
   ],
   "execution_count": 2
  },
  {
   "metadata": {
    "ExecuteTime": {
     "end_time": "2025-07-17T00:23:34.660875Z",
     "start_time": "2025-07-17T00:23:27.465713Z"
    }
   },
   "cell_type": "code",
   "source": [
    "question = \"삼성전자 2022년 사업 상황 알려줘\"\n",
    "response = run_flexible_rag2(question)\n",
    "print(response)"
   ],
   "id": "abfb83b6ff8c05e9",
   "outputs": [
    {
     "name": "stdout",
     "output_type": "stream",
     "text": [
      "📥 business 처리 시작\n",
      "안녕하세요! 삼성전자 2022년 사업 상황에 대해 사업보고서 중심으로 분석해 봤어요.\n",
      "\n",
      "**현재 사업 상황을 보면,** 삼성전자는 반도체, 디스플레이, IT & 모바일, 가전 사업을 주요 사업 부문으로 운영하고 있어요. 특히, 반도체와 디스플레이 패널, 스마트폰 등에서 강력한 제품 라인업을 보유하고 있으며, 전체 매출의 70%가 해외에서 발생하고 있어요.\n",
      "\n",
      "**최근 가장 눈에 띄는 변화는** 당기순이익이 전년 대비 감소한 점인데, 이는 글로벌 시장의 경쟁 심화와 공급망 이슈 등 외부 요인과 관련이 있는 것으로 보여요.\n",
      "\n",
      "**그래서 앞으로는** 반도체와 모바일 시장에서의 경쟁력 강화를 통해 해외 시장에서의 점유율 확대를 기대해볼 수 있겠네요. 특히, 기술 혁신과 제품 다양화를 통해 시장 기회를 적극적으로 활용할 가능성이 있어요.\n",
      "\n",
      "특정 사업 부문에 대해 더 자세히 알고 싶으시면 말씀해주세요!\n"
     ]
    }
   ],
   "execution_count": 3
  },
  {
   "metadata": {
    "ExecuteTime": {
     "end_time": "2025-07-17T00:43:00.076572Z",
     "start_time": "2025-07-17T00:42:55.188559Z"
    }
   },
   "cell_type": "code",
   "source": [
    "question = \"카카오 2022년 사업 상황 알려줘\"\n",
    "response = run_flexible_rag3(question)\n",
    "print(response)"
   ],
   "id": "8691ed3b39a18b47",
   "outputs": [
    {
     "name": "stdout",
     "output_type": "stream",
     "text": [
      "📥 business 처리 시작\n",
      "\"해당 연도의 문서는 제공되지 않았어요.\"\n"
     ]
    }
   ],
   "execution_count": 17
  },
  {
   "metadata": {},
   "cell_type": "markdown",
   "source": "## 하이브리드 rag chain 테스트",
   "id": "4a1d8b1071c1aacf"
  },
  {
   "metadata": {
    "ExecuteTime": {
     "end_time": "2025-07-17T00:24:21.002277Z",
     "start_time": "2025-07-17T00:24:11.065808Z"
    }
   },
   "cell_type": "code",
   "source": [
    "question = \"네이버 2024년 사업 재무상태 어때?\"\n",
    "response = run_flexible_rag1(question)\n",
    "print(response)"
   ],
   "id": "8879f29bd486816a",
   "outputs": [
    {
     "name": "stdout",
     "output_type": "stream",
     "text": [
      "📥 hybrid 처리 시작\n",
      "안녕하세요! 네이버의 2024년 재무 상태에 대해 알아봤어요.\n",
      "\n",
      "**1. 이 회사는요,**\n",
      "네이버는 인터넷 검색 사이트 운영과 온라인 정보 제공 사업을 주로 하고 있어요. 주요 매출원은 서치플랫폼과 커머스 등이에요.\n",
      "\n",
      "**2. 돈은 이만큼 벌었어요! (2024년 기준)**\n",
      "- 매출은 약 107,377억원 정도고요,\n",
      "- 순이익은 약 19,320억원이에요.\n",
      "\n",
      "**3. 재무 상태는 튼튼해요? (2024년 기준)**\n",
      "- 총자산은 약 381,679억원, 총부채는 약 111,670억원이에요.\n",
      "- 자산이 부채보다 훨씬 많아서 재무 상태가 안정적이네요.\n",
      "\n",
      "더 궁금한 점 있으시면 언제든 다시 물어보세요!\n"
     ]
    }
   ],
   "execution_count": 5
  },
  {
   "metadata": {
    "ExecuteTime": {
     "end_time": "2025-07-17T00:24:48.345220Z",
     "start_time": "2025-07-17T00:24:32.379703Z"
    }
   },
   "cell_type": "code",
   "source": [
    "question = \"네이버 2024년 사업 재무상태 어때?\"\n",
    "response = run_flexible_rag2(question)\n",
    "print(response)"
   ],
   "id": "13cf781e53a4bf47",
   "outputs": [
    {
     "name": "stdout",
     "output_type": "stream",
     "text": [
      "📥 hybrid 처리 시작\n",
      "안녕하세요! 네이버의 2024년 사업 재무상태에 대해 분석해 봤어요.\n",
      "\n",
      "**1. 작년과 비교하면 어떻게 달라졌나요?**\n",
      "- **매출과 이익**: 2024년의 영업수익은 10,737억원으로, 전년의 9,670억원에 비해 약 11% 증가했어요. 영업이익도 1,979억원으로 전년의 1,488억원보다 증가했네요. 이는 전반적인 매출 증가와 비용 관리의 결과로 보여요.\n",
      "- **자산과 부채**: 자산총계는 38,168억원으로 전년의 35,738억원에 비해 약 7% 증가했어요. 반면, 부채총계는 11,167억원으로 전년의 11,499억원에서 약간 감소했어요. 이는 자본의 증가와 부채의 감소로 인해 재무 안정성이 개선된 것으로 보여요.\n",
      "\n",
      "**2. 이런 변화는 사업적으로 어떤 의미가 있을까요?**\n",
      "재무제표의 변화를 보면, 네이버는 매출 증가와 비용 절감을 통해 수익성을 개선하고 있는 것으로 보여요. 특히, 영업수익의 증가가 두드러지는데, 이는 네이버의 다양한 사업 부문에서의 성장이 반영된 결과일 수 있어요. 또한, 부채의 감소는 재무 구조의 안정성을 높이는 긍정적인 신호로 볼 수 있어요.\n",
      "\n",
      "**3. 종합적으로 보면,**\n",
      "네이버는 2024년에 들어서면서 매출과 이익 모두 증가하며 긍정적인 재무 성과를 보이고 있어요. 자산 증가와 부채 감소는 재무 건전성을 높이는 요인으로 작용하고 있으며, 이는 앞으로의 사업 확장과 안정적인 운영에 긍정적인 영향을 미칠 것으로 예상돼요.\n",
      "\n",
      "더 깊이 있는 분석이 필요하시면 말씀해주세요!\n"
     ]
    }
   ],
   "execution_count": 6
  },
  {
   "metadata": {},
   "cell_type": "code",
   "outputs": [],
   "execution_count": null,
   "source": [
    "question = \"네이버 2024년 사업 재무상태 어때?\"\n",
    "response = run_flexible_rag3(question)\n",
    "print(response)"
   ],
   "id": "371bf98d58e1bc90"
  },
  {
   "metadata": {
    "ExecuteTime": {
     "end_time": "2025-07-16T14:17:15.602627Z",
     "start_time": "2025-07-16T14:16:51.571665Z"
    }
   },
   "cell_type": "code",
   "source": [
    "question = \"삼성전자 2022년에서 2023년에 사업 재무상태 어때?\"\n",
    "response = run_flexible_rag2(question)\n",
    "print(response)"
   ],
   "id": "a129152f4dd9474a",
   "outputs": [
    {
     "name": "stdout",
     "output_type": "stream",
     "text": [
      "📥 hybrid 처리 시작\n",
      "안녕하세요! 삼성전자의 2022년과 2023년 사업 재무상태를 분석해 봤어요.\n",
      "\n",
      "**1. 작년과 비교하면 어떻게 달라졌나요?**\n",
      "- **매출과 이익**: 2023년 매출은 258,935억원으로, 전년 대비 감소했어요. 영업이익도 6,567억원으로 줄어들었네요. 이는 전반적인 매출 감소와 함께 영업비용 증가가 영향을 미친 것으로 보여요.\n",
      "- **자산과 부채**: 자산은 455,906억원으로 증가했지만, 부채는 92,228억원으로 감소했어요. 이는 재무 안정성이 개선된 것으로 볼 수 있어요.\n",
      "\n",
      "**2. 이런 변화는 사업적으로 어떤 의미가 있을까요?**\n",
      "매출 감소는 글로벌 경제 상황이나 특정 사업 부진과 관련이 있을 수 있어요. 특히, 반도체나 디스플레이 사업의 수요 변동이 영향을 미쳤을 가능성이 있어요. 하지만 부채 감소는 재무 구조 개선을 위한 노력이 있었음을 보여주네요.\n",
      "\n",
      "**3. 종합적으로 보면,**\n",
      "삼성전자는 매출 감소에도 불구하고 부채를 줄이며 재무 안정성을 강화하는 방향으로 나아가고 있는 상황이에요. 이는 장기적으로 긍정적인 영향을 미칠 수 있을 것으로 보여요.\n",
      "\n",
      "더 깊이 있는 분석이 필요하시면 말씀해주세요!\n"
     ]
    }
   ],
   "execution_count": 11
  },
  {
   "metadata": {},
   "cell_type": "markdown",
   "source": "## 재무제표 rag chain 테스트",
   "id": "5bee17862d2102d4"
  },
  {
   "metadata": {
    "ExecuteTime": {
     "end_time": "2025-07-17T00:25:22.847943Z",
     "start_time": "2025-07-17T00:25:12.095987Z"
    }
   },
   "cell_type": "code",
   "source": [
    "question = \"삼성전자 2024년 재무제표 어때?\"\n",
    "response = run_flexible_rag1(question)\n",
    "print(response)"
   ],
   "id": "992448479a211894",
   "outputs": [
    {
     "name": "stdout",
     "output_type": "stream",
     "text": [
      "📥 financial 처리 시작\n",
      "안녕하세요! 삼성전자의 2024년 성적표를 쉽고 간단하게 알려드릴게요.\n",
      "\n",
      "**✅ 돈은 작년보다 잘 벌었나요?**\n",
      "네, 아주 잘 벌었어요!\n",
      "- **매출** (회사의 1년 총 판매금액)은 **16.2% 늘어난 3,008,709억원**을 기록했고요,\n",
      "- **영업이익** (장사해서 실제로 남긴 돈)은 무려 **398.3%나 늘어난 32,726억원**이에요. 작년보다 장사를 훨씬 잘했네요!\n",
      "\n",
      "**✅ 회사는 튼튼한가요?**\n",
      "네, 튼튼해요!\n",
      "- **자산** (회사가 가진 모든 재산)은 **12.9% 늘어난 5,145,319억원**이고요,\n",
      "- **부채** (갚아야 할 돈)는 **92,228억원**에서 **112,340억원**으로 조금 늘었지만, 자산에 비하면 아주 적은 수준이에요.\n",
      "\n",
      "**한마디로,** 삼성전자는 2024년에 돈도 훨씬 잘 벌고 회사도 더 튼튼해졌어요!\n",
      "\n",
      "더 궁금한 점 있으시면 편하게 물어보세요.\n"
     ]
    }
   ],
   "execution_count": 7
  },
  {
   "metadata": {
    "ExecuteTime": {
     "end_time": "2025-07-17T01:06:07.796360Z",
     "start_time": "2025-07-17T01:05:55.205723Z"
    }
   },
   "cell_type": "code",
   "source": [
    "question = \"삼성전자 2024년 재무제표 어때?\"\n",
    "response = run_flexible_rag2(question)\n",
    "print(response)"
   ],
   "id": "2624a4c17ca01a76",
   "outputs": [
    {
     "name": "stdout",
     "output_type": "stream",
     "text": [
      "📥 financial 처리 시작\n",
      "안녕하세요! 삼성전자의 재무 데이터를 분석하여 설명해드릴게요.\n",
      "\n",
      "📊 **연도별 주요 실적**\n",
      "\n",
      "- **매출액**: \n",
      "  - 2024년: 300,870,903억 원\n",
      "  - 2023년: 258,935,494억 원\n",
      "  - 변화율: 약 16.2% 증가\n",
      "\n",
      "- **영업이익**: \n",
      "  - 2024년: 32,725,961억 원\n",
      "  - 2023년: 6,566,976억 원\n",
      "  - 변화율: 약 398.3% 증가\n",
      "\n",
      "- **당기순이익**: \n",
      "  - 2024년: 34,451,351억 원\n",
      "  - 2023년: 15,487,100억 원\n",
      "  - 변화율: 약 122.4% 증가\n",
      "\n",
      "**실적 변화를 보면,**\n",
      "- 매출은 2023년 대비 2024년에 16.2% 증가하여 300,870,903억 원을 기록했습니다.\n",
      "- 영업이익은 같은 기간 398.3% 증가했고, 순이익은 122.4% 증가했습니다.\n",
      "\n",
      "📌 **요약하자면**, 매출과 수익성이 크게 개선되는 흐름을 보이고 있으며, 특히 영업이익의 급격한 증가가 눈에 띕니다. 이는 비용 절감이나 매출 증가에 따른 수익성 개선이 주요 원인일 수 있습니다. 안정성 또는 미래 전망은 추가 분석이 필요할 수 있습니다.\n",
      "\n",
      "더 궁금한 항목이 있으시면 언제든지 질문해주세요!\n"
     ]
    }
   ],
   "execution_count": 21
  },
  {
   "metadata": {
    "ExecuteTime": {
     "end_time": "2025-07-17T03:28:45.442486Z",
     "start_time": "2025-07-17T03:28:28.642228Z"
    }
   },
   "cell_type": "code",
   "source": [
    "question = \"삼성전자 상황 어때\"\n",
    "response = run_flexible_rag3(question)\n",
    "print(response)"
   ],
   "id": "dc0b7ee1fce92671",
   "outputs": [
    {
     "name": "stdout",
     "output_type": "stream",
     "text": [
      "📥 hybrid 처리 시작\n",
      "안녕하십니까. 삼성전자의 현재 상황에 대한 심층 분석 결과를 말씀드리겠습니다.\n",
      "\n",
      "**먼저 핵심 결론부터 말씀드리면,**\n",
      "삼성전자는 2024년 재무제표 기준으로 자산과 매출이 증가하며 긍정적인 재무 성과를 보이고 있습니다. 그러나 현금 및 현금성 자산의 감소와 투자활동현금흐름의 큰 폭의 감소는 주의 깊게 살펴볼 필요가 있습니다.\n",
      "\n",
      "**구체적인 재무 성과를 자세히 살펴보면,**\n",
      "2024년 삼성전자의 자산총계는 514,531억 원으로 전기 대비 증가하였으며, 매출액도 300,870억 원으로 증가하였습니다. 그러나 현금 및 현금성 자산은 53,705억 원으로 전기 대비 감소하였습니다. 이는 투자활동현금흐름이 -85,381억 원으로 크게 감소한 것과 관련이 있습니다.\n",
      "\n",
      "**이러한 재무적 변화는 사업 현황과 밀접한 관련이 있습니다.**\n",
      "삼성전자는 다양한 사업 포트폴리오를 통해 매출을 확대하고 있으며, 특히 반도체 및 전자제품 분야에서의 강세가 매출 증가에 기여하고 있습니다. 그러나 글로벌 경제 상황과 관련된 리스크, 특히 환율 변동과 같은 외부 요인도 영향을 미치고 있습니다.\n",
      "\n",
      "**특히, 이번 재무제표에는 회계기준의 영향도 있었는데요,**\n",
      "회계기준의 직접적인 영향보다는 시장 환경과 사업 전략에 따른 재무적 변화가 더 두드러집니다. 다만, 금융상품의 공정가치 평가와 관련된 회계처리가 기타포괄손익에 영향을 미쳤을 가능성이 있습니다.\n",
      "\n",
      "**이 모든 것을 종합하여 다음과 같은 인사이트를 드립니다.**\n",
      "삼성전자는 매출과 자산의 증가로 긍정적인 성과를 보이고 있으나, 현금성 자산의 감소와 투자활동현금흐름의 큰 폭의 감소는 향후 재무 안정성에 대한 모니터링이 필요합니다. 지속적인 사업 확장과 함께 효율적인 자금 관리가 중요할 것입니다.\n",
      "\n",
      "추가적인 분석이나 다른 관점의 해석이 필요하시면 언제든지 말씀해주십시오.\n"
     ]
    }
   ],
   "execution_count": 2
  },
  {
   "metadata": {},
   "cell_type": "markdown",
   "source": "## 회계기준서 rag chain 테스트",
   "id": "e310c0f8a2ddd923"
  },
  {
   "metadata": {
    "ExecuteTime": {
     "end_time": "2025-07-17T00:26:11.293072Z",
     "start_time": "2025-07-17T00:26:06.569839Z"
    }
   },
   "cell_type": "code",
   "source": [
    "question = \"재고 자산 회계 처리 방법이 뭐야???\"\n",
    "response = run_flexible_rag1(question)\n",
    "print(response)"
   ],
   "id": "38d610e61af73d49",
   "outputs": [
    {
     "name": "stdout",
     "output_type": "stream",
     "text": [
      "📥 accounting 처리 시작\n",
      "안녕하세요! 재고 자산 회계 처리 방법이 궁금하시군요. 아주 쉽게 설명해드릴게요.\n",
      "\n",
      "**한마디로 말하면,** 재고 자산의 가치를 어떻게 계산하고 기록할지 정하는 방법이에요.\n",
      "\n",
      "예를 들어, 가게에서 물건을 사서 팔 때, 그 물건의 원가를 어떻게 계산할지 정하는 거라고 생각하면 쉬워요. 물건을 먼저 산 순서대로 계산하는 방법(선입선출법)이나 평균을 내서 계산하는 방법(가중평균법) 등이 있어요.\n",
      "\n",
      "더 궁금한 점 있으시면 편하게 물어보세요!\n"
     ]
    }
   ],
   "execution_count": 10
  },
  {
   "metadata": {},
   "cell_type": "markdown",
   "source": "",
   "id": "8f0c9638a102df86"
  },
  {
   "metadata": {
    "ExecuteTime": {
     "end_time": "2025-07-17T00:26:22.412742Z",
     "start_time": "2025-07-17T00:26:17.287982Z"
    }
   },
   "cell_type": "code",
   "source": [
    "question = \"재고 자산 회계 처리 방법이 뭐야???\"\n",
    "response = run_flexible_rag2(question)\n",
    "print(response)"
   ],
   "id": "e4555d2a65de0b9",
   "outputs": [
    {
     "name": "stdout",
     "output_type": "stream",
     "text": [
      "📥 accounting 처리 시작\n",
      "안녕하세요! 재고 자산 회계 처리 방법에 대해 실무 중심으로 설명해드릴게요.\n",
      "\n",
      "**먼저, 재고 자산 회계 처리란** 재고자산의 원가를 결정하고, 이를 자산으로 인식하여 관련 수익이 인식될 때까지 장부에 표시하는 과정을 의미해요. 이 과정은 재고자산의 원가결정 및 순실현가능가치로 감액하는 것을 포함한 후속적 비용인식에 대한 지침을 제공합니다.\n",
      "\n",
      "**실무에서는** 재고자산의 원가를 선입선출법(FIFO)이나 가중평균법을 사용하여 결정하고, 순실현가능가치로 감액하는 저가법을 적용하는 방식으로 처리합니다. **가장 중요한 점은** 재고자산의 원가를 회수하기 어려운 경우(예: 손상, 진부화, 판매가격 하락 등)에는 순실현가능가치로 감액하여야 한다는 거예요.\n",
      "\n",
      "혹시 특정 상황에서의 적용 방법이 궁금하시면 더 구체적으로 질문해주세요!\n"
     ]
    }
   ],
   "execution_count": 11
  },
  {
   "metadata": {
    "ExecuteTime": {
     "end_time": "2025-07-17T00:26:32.528538Z",
     "start_time": "2025-07-17T00:26:25.762938Z"
    }
   },
   "cell_type": "code",
   "source": [
    "question = \"재고 자산 회계 처리 방법이 뭐야???\"\n",
    "response = run_flexible_rag3(question)\n",
    "print(response)"
   ],
   "id": "62b7d018c2516a94",
   "outputs": [
    {
     "name": "stdout",
     "output_type": "stream",
     "text": [
      "📥 accounting 처리 시작\n",
      "안녕하십니까. 재고자산 회계 처리 방법에 대한 회계기준의 핵심 원칙을 설명드리겠습니다.\n",
      "\n",
      "이 내용은 주로 '기업회계기준서 제1002호 재고자산'에서 다루고 있으며, 아래와 같은 핵심 요소들을 중심으로 판단하게 됩니다.\n",
      "\n",
      "1. **인식**: 재고자산은 자산으로 인식되며, 이는 관련 수익이 인식될 때까지 장부에 표시됩니다. 재고자산의 인식은 그 원가 금액을 적절하게 결정하는 것이 중요합니다.\n",
      "\n",
      "2. **측정**: 재고자산의 원가는 선입선출법(FIFO)이나 가중평균법을 사용하여 결정할 수 있습니다. 후입선출법(LIFO)은 삭제되었습니다. 재고자산의 원가는 순실현가능가치로 감액될 수 있으며, 이는 자산의 장부금액이 판매나 사용으로부터 실현될 것으로 기대되는 금액을 초과하지 않도록 합니다.\n",
      "\n",
      "3. **원가 배분**: 재고자산의 원가를 배분하는 방법으로는 선입선출법과 가중평균법이 있으며, 성격과 용도 면에서 유사한 재고자산에는 동일한 단위원가 결정방법을 적용해야 합니다.\n",
      "\n",
      "4. **특수한 경우**: 농수산물, 임산물, 광물자원 등의 경우에는 순실현가능가치로 측정할 수 있으며, 일반상품 중개기업의 경우에는 공정가치에서 처분부대원가를 뺀 금액으로 측정할 수 있습니다.\n",
      "\n",
      "이와 같은 원칙들은 재고자산의 회계처리를 명확하게 하고, 재무제표의 신뢰성을 높이는 데 기여합니다. 추가적인 세부사항이나 특정 상황에 대한 내용은 제공된 기준서에서 확인하실 수 있습니다.\n"
     ]
    }
   ],
   "execution_count": 12
  },
  {
   "metadata": {},
   "cell_type": "markdown",
   "source": "## 모르는 정보에 대한 질문 테스트",
   "id": "dd944f71956c978b"
  },
  {
   "metadata": {
    "ExecuteTime": {
     "end_time": "2025-07-17T03:11:43.166441Z",
     "start_time": "2025-07-17T03:11:35.188097Z"
    }
   },
   "cell_type": "code",
   "source": [
    "question = \"삼성전자 재고자산 어떻게 계싼해?\"\n",
    "response = run_flexible_rag2(question)\n",
    "print(response)"
   ],
   "id": "22ffc23ae6b0f7c0",
   "outputs": [
    {
     "name": "stdout",
     "output_type": "stream",
     "text": [
      "📥 accounting 처리 시작\n",
      "안녕하세요! 삼성전자의 재고자산 계산에 대해 실무 중심으로 설명해드릴게요.\n",
      "\n",
      "**먼저, 재고자산이란** 기업이 판매를 목적으로 보유하거나 생산 과정에 있는 자산을 의미해요. 이는 기업회계기준서 제1002호에 따라 회계처리됩니다.\n",
      "\n",
      "**실무에서는** 재고자산의 원가를 결정할 때, 선입선출법이나 가중평균법을 사용하여 단위원가를 계산합니다. 또한, 재고자산의 순실현가능가치가 하락하면 이를 감액하고, 후속 기간에 가격이 상승하면 평가손실을 환입할 수 있습니다. **가장 중요한 점은** 재고자산의 원가를 정확히 측정하고, 관련된 수익이 인식될 때까지 장부에 표시하는 것입니다.\n",
      "\n",
      "혹시 특정 상황에서의 적용 방법이 궁금하시면 더 구체적으로 질문해주세요!\n"
     ]
    }
   ],
   "execution_count": 24
  },
  {
   "metadata": {
    "ExecuteTime": {
     "end_time": "2025-07-16T20:04:14.642674Z",
     "start_time": "2025-07-16T20:04:08.754405Z"
    }
   },
   "cell_type": "code",
   "source": [
    "question = \"네이비 2023년 재무제표\"\n",
    "response = run_flexible_rag3(question)\n",
    "print(response)"
   ],
   "id": "31177240a5555a1c",
   "outputs": [
    {
     "name": "stdout",
     "output_type": "stream",
     "text": [
      "📥 financial 처리 시작\n",
      "\"요청하신 연도의 재무제표 데이터가 제공되지 않아 분석이 어렵습니다.\"\n"
     ]
    }
   ],
   "execution_count": 4
  },
  {
   "metadata": {
    "ExecuteTime": {
     "end_time": "2025-07-17T00:26:54.613252Z",
     "start_time": "2025-07-17T00:26:53.048499Z"
    }
   },
   "cell_type": "code",
   "source": [
    "question = \"오늘 뭐 하지?\"\n",
    "response = run_flexible_rag1(question)\n",
    "print(response)"
   ],
   "id": "8060a4e8441b475e",
   "outputs": [
    {
     "name": "stdout",
     "output_type": "stream",
     "text": [
      "일반 질문\n",
      "해당 내용은 제가 알지 못하는 분야입니다.\n"
     ]
    }
   ],
   "execution_count": 14
  },
  {
   "metadata": {
    "ExecuteTime": {
     "end_time": "2025-07-17T00:27:18.913026Z",
     "start_time": "2025-07-17T00:27:17.642911Z"
    }
   },
   "cell_type": "code",
   "source": [
    "question = \"오늘 뭐 하지?\"\n",
    "response = run_flexible_rag2(question)\n",
    "print(response)"
   ],
   "id": "a27190f1cb2c23ff",
   "outputs": [
    {
     "name": "stdout",
     "output_type": "stream",
     "text": [
      "일반 질문\n",
      "해당 내용은 제가 알지 못하는 분야입니다.\n"
     ]
    }
   ],
   "execution_count": 15
  },
  {
   "metadata": {
    "ExecuteTime": {
     "end_time": "2025-07-17T00:27:21.193924Z",
     "start_time": "2025-07-17T00:27:19.827976Z"
    }
   },
   "cell_type": "code",
   "source": [
    "question = \"오늘 뭐 하지?\"\n",
    "response = run_flexible_rag3(question)\n",
    "print(response)"
   ],
   "id": "51becfbaaf0a6cf8",
   "outputs": [
    {
     "name": "stdout",
     "output_type": "stream",
     "text": [
      "일반 질문\n",
      "해당 내용은 제가 알지 못하는 분야입니다.\n"
     ]
    }
   ],
   "execution_count": 16
  },
  {
   "metadata": {},
   "cell_type": "code",
   "outputs": [],
   "execution_count": null,
   "source": "",
   "id": "47cdfdd2b229ed86"
  }
 ],
 "metadata": {
  "kernelspec": {
   "display_name": "Python 3",
   "language": "python",
   "name": "python3"
  },
  "language_info": {
   "codemirror_mode": {
    "name": "ipython",
    "version": 2
   },
   "file_extension": ".py",
   "mimetype": "text/x-python",
   "name": "python",
   "nbconvert_exporter": "python",
   "pygments_lexer": "ipython2",
   "version": "2.7.6"
  }
 },
 "nbformat": 4,
 "nbformat_minor": 5
}
